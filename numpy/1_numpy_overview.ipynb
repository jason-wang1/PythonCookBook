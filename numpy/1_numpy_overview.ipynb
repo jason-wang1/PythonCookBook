{
 "cells": [
  {
   "cell_type": "markdown",
   "metadata": {
    "collapsed": true,
    "pycharm": {
     "name": "#%% md\n"
    }
   },
   "source": [
    "# NumPy 概述"
   ]
  },
  {
   "cell_type": "markdown",
   "source": [
    "- 全名 Numerical Python，是高性能科学计算和数据分析的基础包\n",
    "- ndarray：具备矢量计算、复杂广播能力、节省空间的多维数组\n",
    "- 拥有对整组数据快速运算对标准数学函数，无需循环\n",
    "- 可以读写磁盘，可以操作内存映射文件\n",
    "- 可以进行线性代数、傅立叶变换\n",
    "- 通过 C、C++、Fortran 语言编写\n"
   ],
   "metadata": {
    "collapsed": false
   }
  }
 ],
 "metadata": {
  "kernelspec": {
   "display_name": "Python 3",
   "language": "python",
   "name": "python3"
  },
  "language_info": {
   "codemirror_mode": {
    "name": "ipython",
    "version": 2
   },
   "file_extension": ".py",
   "mimetype": "text/x-python",
   "name": "python",
   "nbconvert_exporter": "python",
   "pygments_lexer": "ipython2",
   "version": "2.7.6"
  },
  "pycharm": {
   "stem_cell": {
    "cell_type": "raw",
    "source": [],
    "metadata": {
     "collapsed": false
    }
   }
  }
 },
 "nbformat": 4,
 "nbformat_minor": 0
}