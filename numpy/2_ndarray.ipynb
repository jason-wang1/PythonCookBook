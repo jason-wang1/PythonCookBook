{
 "cells": [
  {
   "cell_type": "markdown",
   "metadata": {
    "collapsed": true,
    "pycharm": {
     "name": "#%% md\n"
    }
   },
   "source": [
    "# ndarray"
   ]
  },
  {
   "cell_type": "markdown",
   "source": [
    "## 创建 ndarray\n",
    "| 函数   | 案例   |  说明\n",
    "| ---- | ---- | ---- |\n",
    "|   array   |   np.array([6, 7.5, 8])   |   根据列表、元组、数组等序列类型创建ndarray   |\n",
    "|   asarray   |   np.asarray([6, 7.5, 8])   |   将输入转换为ndarray，如果输入本身是ndarray，则不会复制   |\n",
    "|   arange   |   np.arange(2, 8, 3)   |   根据指定的 start、stop、step 创建 ndarray   |\n",
    "|   zeros   |   np.zeros(3， 7)   |   创建数值全为0的 ndarray   |\n",
    "|   ones   |   np.ones(10)   |   创建数值全为1的 ndarray   |\n",
    "|   empty   |   np.empty((2, 3, 2))   |   创建 ndarray，分配内存空间但不赋值   |\n"
   ],
   "metadata": {
    "collapsed": false
   }
  },
  {
   "cell_type": "markdown",
   "source": [
    "### 1. np.array"
   ],
   "metadata": {
    "collapsed": false,
    "pycharm": {
     "name": "#%% md\n"
    }
   }
  },
  {
   "cell_type": "code",
   "source": [
    "import numpy as np\n",
    "data1 = [6, 7.5, 8, 0, 1]\n",
    "\n",
    "print(\"创建一维ndarray\")\n",
    "arr1 = np.array(data1)\n",
    "print(arr1)\n",
    "print(arr1.ndim)\n",
    "print(arr1.shape)\n",
    "print(arr1.dtype)\n"
   ],
   "metadata": {
    "collapsed": false,
    "pycharm": {
     "name": "#%%\n",
     "is_executing": false
    }
   },
   "execution_count": 4,
   "outputs": [
    {
     "name": "stdout",
     "text": [
      "创建一维ndarray\n",
      "[6.  7.5 8.  0.  1. ]\n",
      "1\n",
      "(5,)\n",
      "float64\n",
      "[6.  7.5 8.  0.  1. ]\n"
     ],
     "output_type": "stream"
    }
   ]
  },
  {
   "cell_type": "code",
   "execution_count": 4,
   "outputs": [
    {
     "name": "stdout",
     "text": [
      "[[1 2 3 4]\n",
      " [5 6 7 8]]\n",
      "2\n",
      "(2, 4)\n",
      "int64\n"
     ],
     "output_type": "stream"
    }
   ],
   "source": [
    "data2 = [[1, 2, 3, 4], [5, 6, 7, 8]]\n",
    "\n",
    "print(\"创建二维数组\")\n",
    "arr2 = np.array(data2)\n",
    "print(arr2)\n",
    "print(arr2.ndim)\n",
    "print(arr2.shape)\n",
    "print(arr2.dtype)"
   ],
   "metadata": {
    "collapsed": false,
    "pycharm": {
     "name": "#%%\n",
     "is_executing": false
    }
   }
  },
  {
   "cell_type": "markdown",
   "source": [
    "### 2. np.asarray / np.arange"
   ],
   "metadata": {
    "collapsed": false
   }
  },
  {
   "cell_type": "code",
   "execution_count": 9,
   "outputs": [
    {
     "name": "stdout",
     "text": [
      "[6.  7.5 8.  0.  1. ]\n",
      "[2 5]\n"
     ],
     "output_type": "stream"
    }
   ],
   "source": [
    "print(np.asarray(data1))\n",
    "print(np.arange(start= 2, stop= 8, step= 3))"
   ],
   "metadata": {
    "collapsed": false,
    "pycharm": {
     "name": "#%% \n",
     "is_executing": false
    }
   }
  },
  {
   "cell_type": "markdown",
   "source": [
    "### 3. 常量 ndarray"
   ],
   "metadata": {
    "collapsed": false
   }
  },
  {
   "cell_type": "code",
   "execution_count": 3,
   "outputs": [
    {
     "name": "stdout",
     "text": [
      "[0. 0. 0. 0. 0. 0. 0. 0. 0. 0.]\n",
      "[[1. 1. 1. 1. 1.]\n",
      " [1. 1. 1. 1. 1.]\n",
      " [1. 1. 1. 1. 1.]]\n",
      "[[[-0.00000000e+000 -0.00000000e+000]\n",
      "  [-5.43472210e-323  0.00000000e+000]\n",
      "  [ 2.12199579e-314  0.00000000e+000]]\n",
      "\n",
      " [[ 0.00000000e+000  0.00000000e+000]\n",
      "  [ 1.77229088e-310  3.50977866e+064]\n",
      "  [ 0.00000000e+000  0.00000000e+000]]]\n"
     ],
     "output_type": "stream"
    }
   ],
   "source": [
    "print(np.zeros(10))\n",
    "print(np.ones((3, 5)))\n",
    "print(np.empty((2, 3, 2)))\n"
   ],
   "metadata": {
    "collapsed": false,
    "pycharm": {
     "name": "#%%\n",
     "is_executing": false
    }
   }
  }
 ],
 "metadata": {
  "kernelspec": {
   "display_name": "Python 3",
   "language": "python",
   "name": "python3"
  },
  "language_info": {
   "codemirror_mode": {
    "name": "ipython",
    "version": 2
   },
   "file_extension": ".py",
   "mimetype": "text/x-python",
   "name": "python",
   "nbconvert_exporter": "python",
   "pygments_lexer": "ipython2",
   "version": "2.7.6"
  },
  "pycharm": {
   "stem_cell": {
    "cell_type": "raw",
    "source": [],
    "metadata": {
     "collapsed": false
    }
   }
  }
 },
 "nbformat": 4,
 "nbformat_minor": 0
}