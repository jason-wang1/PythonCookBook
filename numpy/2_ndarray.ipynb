{
 "cells": [
  {
   "cell_type": "markdown",
   "metadata": {
    "collapsed": true,
    "pycharm": {
     "name": "#%% md\n"
    }
   },
   "source": [
    "# ndarray"
   ]
  },
  {
   "cell_type": "markdown",
   "source": [
    "## 创建 ndarray\n",
    "| 函数   | 案例   |  说明\n",
    "| ---- | ---- | ---- |\n",
    "|   array   |   np.array([6, 7.5, 8])   |   根据列表、元组、数组等序列类型创建ndarray   |\n",
    "|   asarray   |   np.asarray([6, 7.5, 8])   |   将输入转换为ndarray，如果输入本身是ndarray，则不会复制   |\n",
    "|   arange   |   np.arange(2, 8, 3)   |   根据指定的 start、stop、step 创建 ndarray   |\n",
    "|   zeros   |   np.zeros(3， 7)   |   创建数值全为0的 ndarray   |\n",
    "|   ones   |   np.ones(10)   |   创建数值全为1的 ndarray   |\n",
    "|   empty   |   np.empty((2, 3, 2))   |   创建 ndarray，分配内存空间但不赋值   |\n"
   ],
   "metadata": {
    "collapsed": false
   }
  },
  {
   "cell_type": "markdown",
   "source": [
    "### 1. np.array"
   ],
   "metadata": {
    "collapsed": false,
    "pycharm": {
     "name": "#%% md\n"
    }
   }
  },
  {
   "cell_type": "code",
   "source": [
    "import numpy as np\n",
    "data1 = [6, 7.5, 8, 0, 1]\n",
    "\n",
    "print(\"创建一维ndarray\")\n",
    "arr1 = np.array(data1)\n",
    "print(arr1)\n",
    "print(arr1.ndim)\n",
    "print(arr1.shape)\n",
    "print(arr1.dtype)\n"
   ],
   "metadata": {
    "collapsed": false,
    "pycharm": {
     "name": "#%%\n",
     "is_executing": false
    }
   },
   "execution_count": 4,
   "outputs": [
    {
     "name": "stdout",
     "text": [
      "创建一维ndarray\n",
      "[6.  7.5 8.  0.  1. ]\n",
      "1\n",
      "(5,)\n",
      "float64\n",
      "[6.  7.5 8.  0.  1. ]\n"
     ],
     "output_type": "stream"
    }
   ]
  },
  {
   "cell_type": "code",
   "execution_count": 4,
   "outputs": [
    {
     "name": "stdout",
     "text": [
      "[[1 2 3 4]\n",
      " [5 6 7 8]]\n",
      "2\n",
      "(2, 4)\n",
      "int64\n"
     ],
     "output_type": "stream"
    }
   ],
   "source": [
    "data2 = [[1, 2, 3, 4], [5, 6, 7, 8]]\n",
    "\n",
    "print(\"创建二维数组\")\n",
    "arr2 = np.array(data2)\n",
    "print(arr2)\n",
    "print(arr2.ndim)\n",
    "print(arr2.shape)\n",
    "print(arr2.dtype)"
   ],
   "metadata": {
    "collapsed": false,
    "pycharm": {
     "name": "#%%\n",
     "is_executing": false
    }
   }
  },
  {
   "cell_type": "markdown",
   "source": [
    "### 2. np.asarray / np.arange"
   ],
   "metadata": {
    "collapsed": false
   }
  },
  {
   "cell_type": "code",
   "execution_count": 9,
   "outputs": [
    {
     "name": "stdout",
     "text": [
      "[6.  7.5 8.  0.  1. ]\n",
      "[2 5]\n"
     ],
     "output_type": "stream"
    }
   ],
   "source": [
    "print(np.asarray(data1))\n",
    "print(np.arange(start= 2, stop= 8, step= 3))"
   ],
   "metadata": {
    "collapsed": false,
    "pycharm": {
     "name": "#%% \n",
     "is_executing": false
    }
   }
  },
  {
   "cell_type": "markdown",
   "source": [
    "### 3. 常量 ndarray"
   ],
   "metadata": {
    "collapsed": false
   }
  },
  {
   "cell_type": "code",
   "execution_count": 3,
   "outputs": [
    {
     "name": "stdout",
     "text": [
      "[0. 0. 0. 0. 0. 0. 0. 0. 0. 0.]\n",
      "[[1. 1. 1. 1. 1.]\n",
      " [1. 1. 1. 1. 1.]\n",
      " [1. 1. 1. 1. 1.]]\n",
      "[[[-0.00000000e+000 -0.00000000e+000]\n",
      "  [-5.43472210e-323  0.00000000e+000]\n",
      "  [ 2.12199579e-314  0.00000000e+000]]\n",
      "\n",
      " [[ 0.00000000e+000  0.00000000e+000]\n",
      "  [ 1.77229088e-310  3.50977866e+064]\n",
      "  [ 0.00000000e+000  0.00000000e+000]]]\n"
     ],
     "output_type": "stream"
    }
   ],
   "source": [
    "print(np.zeros(10))\n",
    "print(np.ones((3, 5)))\n",
    "print(np.empty((2, 3, 2)))"
   ],
   "metadata": {
    "collapsed": false,
    "pycharm": {
     "name": "#%%\n",
     "is_executing": false
    }
   }
  },
  {
   "cell_type": "markdown",
   "source": [
    "## dtype\n",
    "- 一个特殊的对象\n",
    "- 由类名+元素位长表示，如：float64、s10\n",
    "- 可以方便地读写磁盘二进制数据流\n",
    "- 类名包括int、float、complex、bool、object(python对象)、_string(固定长度字符串)、unicode"
   ],
   "metadata": {
    "collapsed": false
   }
  },
  {
   "cell_type": "markdown",
   "source": [
    "## ndarray的运算\n",
    "\n",
    "- 不需要编写循环就能执行数组与数组、数组与标量之间的运算\n",
    "- 也称为矢量化计算"
   ],
   "metadata": {
    "collapsed": false
   }
  },
  {
   "cell_type": "code",
   "execution_count": 3,
   "outputs": [
    {
     "name": "stdout",
     "text": [
      "[[1 2 3]\n",
      " [4 5 6]]\n",
      "\n",
      "数组与数组计算\n",
      "[[ 1  4  9]\n",
      " [16 25 36]]\n",
      "\n",
      "数组与标量计算\n",
      "[[1.         0.5        0.33333333]\n",
      " [0.25       0.2        0.16666667]]\n"
     ],
     "output_type": "stream"
    }
   ],
   "source": [
    "import numpy as np\n",
    "\n",
    "arr = np.array([[1, 2, 3], [4, 5, 6]])\n",
    "print(arr)\n",
    "\n",
    "print(\"\\n数组与数组计算\")\n",
    "print(arr * arr)\n",
    "\n",
    "print(\"\\n数组与标量计算\")\n",
    "print(1 / arr)"
   ],
   "metadata": {
    "collapsed": false,
    "pycharm": {
     "name": "#%%\n",
     "is_executing": false
    }
   }
  },
  {
   "cell_type": "markdown",
   "source": [
    "## 索引和切片\n"
   ],
   "metadata": {
    "collapsed": false
   }
  },
  {
   "cell_type": "markdown",
   "source": [
    "### 一维数组切片\n",
    "ndarray 与 Python list 都可以进行切片，区别是：\n",
    "- 将标量赋值给 ndarray 切片，会自动广播到切片到每个元素中\n",
    "- ndarray 的切片是原始数组的视图，而不是复制为新的数组，在视图上修改会同步到原始 ndarray\n",
    "- 这样目的是节约内存空间，ndarray 通常都比较大\n",
    "- 如果需要复制为新的数组，使用 arr.copy()"
   ],
   "metadata": {
    "collapsed": false
   }
  },
  {
   "cell_type": "code",
   "execution_count": 8,
   "outputs": [
    {
     "name": "stdout",
     "text": [
      "[0 1 2 3 4 5 6 7 8 9]\n",
      "[ 0  1  2  3  4 12 12 12  8  9]\n",
      "[ 0  1  2  3  4 12 12 12  8  9]\n"
     ],
     "output_type": "stream"
    }
   ],
   "source": [
    "import numpy as np\n",
    "\n",
    "arr = np.arange(10)\n",
    "print(arr)\n",
    "\n",
    "arr_copy1 = arr[5:8]\n",
    "arr_copy1[:] = 12\n",
    "print(arr)\n",
    "\n",
    "arr_copy2 = arr[1:3].copy()\n",
    "arr_copy2[:] = 15\n",
    "\n",
    "print(arr)"
   ],
   "metadata": {
    "collapsed": false,
    "pycharm": {
     "name": "#%%\n",
     "is_executing": false
    }
   }
  },
  {
   "cell_type": "markdown",
   "source": [
    "### 多维数组切片"
   ],
   "metadata": {
    "collapsed": false
   }
  },
  {
   "cell_type": "code",
   "source": [
    "arr2d = np.array([[1, 2, 3], [4, 5, 6], [7, 8, 9]])\n",
    "print(\"原始数组为：\")\n",
    "print(arr2d)\n",
    "\n",
    "# 同维度上切片\n",
    "print(\"\\n在axis1上切片：\")\n",
    "print(arr2d[:2])\n",
    "\n",
    "print(\"\\n在axis1、axis2上切片：\")\n",
    "print(arr2d[:2, 1:])\n",
    "\n",
    "# 低维度切片\n",
    "print(\"\\n选择特定的索引，得到低维度切片：\")\n",
    "print(arr2d[1, :2])\n",
    "print(arr2d[:2, 1])"
   ],
   "metadata": {
    "collapsed": false,
    "pycharm": {
     "name": "#%%\n",
     "is_executing": false
    }
   },
   "execution_count": 16,
   "outputs": [
    {
     "name": "stdout",
     "text": [
      "原始数组为：\n",
      "[[1 2 3]\n",
      " [4 5 6]\n",
      " [7 8 9]]\n",
      "\n",
      "在axis1上切片：\n",
      "[[1 2 3]\n",
      " [4 5 6]]\n",
      "\n",
      "在axis1、axis2上切片：\n",
      "[[2 3]\n",
      " [5 6]]\n",
      "\n",
      "选择特定的索引，得到低维度切片：\n",
      "[4 5]\n",
      "[2 5]\n",
      "[0.         1.         1.41421356 1.73205081 2.         3.46410162\n",
      " 3.46410162 3.46410162 2.82842712 3.        ]\n"
     ],
     "output_type": "stream"
    }
   ]
  },
  {
   "cell_type": "markdown",
   "source": [
    "## 元素级别函数\n",
    "这类函数比较多，有一元函数、二元函数"
   ],
   "metadata": {
    "collapsed": false,
    "pycharm": {
     "name": "#%% md\n"
    }
   }
  },
  {
   "cell_type": "code",
   "execution_count": 18,
   "outputs": [
    {
     "name": "stdout",
     "text": [
      "\n",
      "一元函数\n",
      "[0.         1.         1.41421356 1.73205081 2.        ]\n",
      "\n",
      "二元函数\n",
      "[ 6.   8.5 10.   3.   5. ]\n"
     ],
     "output_type": "stream"
    }
   ],
   "source": [
    "import numpy as np\n",
    "\n",
    "arr1 = np.arange(5)\n",
    "arr2 = np.array([6, 7.5, 8, 0, 1])\n",
    "\n",
    "print(\"\\n一元函数\")\n",
    "print(np.sqrt(arr1))\n",
    "\n",
    "print(\"\\n二元函数\")\n",
    "print(np.add(arr1, arr2))\n"
   ],
   "metadata": {
    "collapsed": false,
    "pycharm": {
     "name": "#%%\n",
     "is_executing": false
    }
   }
  },
  {
   "cell_type": "markdown",
   "source": [
    "## 统计函数\n",
    "这类函数会对数组中所有元素进行聚合，如求和、求平均"
   ],
   "metadata": {
    "collapsed": false
   }
  },
  {
   "cell_type": "code",
   "execution_count": 20,
   "outputs": [
    {
     "name": "stdout",
     "text": [
      "2.0\n",
      "[ 0  1  3  6 10]\n"
     ],
     "output_type": "stream"
    }
   ],
   "source": [
    "import numpy as np\n",
    "\n",
    "arr = np.arange(5)\n",
    "\n",
    "print(arr.mean())\n",
    "print(arr.cumsum())"
   ],
   "metadata": {
    "collapsed": false,
    "pycharm": {
     "name": "#%%\n",
     "is_executing": false
    }
   }
  },
  {
   "cell_type": "markdown",
   "source": [
    "## 排序\n",
    "- 对副本排序：np.sort(arr)\n",
    "- 就地排序：arr.sort()"
   ],
   "metadata": {
    "collapsed": false
   }
  },
  {
   "cell_type": "code",
   "execution_count": 23,
   "outputs": [
    {
     "name": "stdout",
     "text": [
      "对副本排序\n",
      "[6.  7.5 8.  0.  1. ]\n",
      "[0.  1.  6.  7.5 8. ]\n",
      "\n",
      "就地排序\n",
      "[0.  1.  6.  7.5 8. ]\n"
     ],
     "output_type": "stream"
    }
   ],
   "source": [
    "import numpy as np\n",
    "\n",
    "arr = np.array([6, 7.5, 8, 0, 1])\n",
    "print(\"对副本排序\")\n",
    "arr_copy = np.sort(arr)\n",
    "print(arr)\n",
    "print(arr_copy)\n",
    "\n",
    "print(\"\\n就地排序\")\n",
    "arr.sort()\n",
    "print(arr)\n"
   ],
   "metadata": {
    "collapsed": false,
    "pycharm": {
     "name": "#%%\n",
     "is_executing": false
    }
   }
  }
 ],
 "metadata": {
  "kernelspec": {
   "display_name": "Python 3",
   "language": "python",
   "name": "python3"
  },
  "language_info": {
   "codemirror_mode": {
    "name": "ipython",
    "version": 2
   },
   "file_extension": ".py",
   "mimetype": "text/x-python",
   "name": "python",
   "nbconvert_exporter": "python",
   "pygments_lexer": "ipython2",
   "version": "2.7.6"
  },
  "pycharm": {
   "stem_cell": {
    "cell_type": "raw",
    "source": [],
    "metadata": {
     "collapsed": false
    }
   }
  }
 },
 "nbformat": 4,
 "nbformat_minor": 0
}