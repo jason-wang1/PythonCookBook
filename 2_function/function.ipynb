{
 "cells": [
  {
   "cell_type": "markdown",
   "metadata": {
    "collapsed": true,
    "pycharm": {
     "name": "#%% md\n"
    }
   },
   "source": [
    "# 1. 函数"
   ]
  },
  {
   "cell_type": "markdown",
   "source": [
    "## 1.1 可接受任意数量参数的函数\n",
    "问题：构造一个可接受任意数量参数的函数。\n",
    "解决：使用一个 * 参数传入任意数量元素的元组；使用 ** 参数传入任意数量的带关键字参数"
   ],
   "metadata": {
    "collapsed": false,
    "pycharm": {
     "name": "#%% md\n"
    }
   }
  },
  {
   "cell_type": "code",
   "execution_count": 2,
   "outputs": [
    {
     "name": "stdout",
     "text": [
      "1.5\n",
      "2.5\n"
     ],
     "output_type": "stream"
    }
   ],
   "source": [
    "def avg(first, *rest):\n",
    "    return (first + sum(rest)) / (1 + len(rest))\n",
    "# Sample use\n",
    "print(avg(1, 2))\n",
    "print(avg(1, 2, 3, 4))\n"
   ],
   "metadata": {
    "collapsed": false,
    "pycharm": {
     "name": "#%%\n",
     "is_executing": false
    }
   }
  },
  {
   "cell_type": "markdown",
   "source": [
    "- 对于以下函数，所有位置参数会被放到 args 元组中，所有关键字参数会被放到字典 kwargs 中。\n",
    "- \\* 可以出现在中间，** 只能是最后一个参数"
   ],
   "metadata": {
    "collapsed": false,
    "pycharm": {
     "name": "#%% md\n"
    }
   }
  },
  {
   "cell_type": "code",
   "execution_count": null,
   "outputs": [],
   "source": [
    "def anyargs(*args, **kwargs):\n",
    "    print(args) # A tuple\n",
    "    print(kwargs) # A dict\n",
    "\n",
    "def a(x, *args, y):\n",
    "    pass\n",
    "\n",
    "def b(x, *args, y, **kwargs):\n",
    "    pass\n"
   ],
   "metadata": {
    "collapsed": false,
    "pycharm": {
     "name": "#%%\n"
    }
   }
  },
  {
   "cell_type": "markdown",
   "source": [
    "## 1.2 给函数添加输入参数类型与返回值类型"
   ],
   "metadata": {
    "collapsed": false,
    "pycharm": {
     "name": "#%% md\n"
    }
   }
  },
  {
   "cell_type": "code",
   "execution_count": 5,
   "outputs": [
    {
     "name": "stdout",
     "text": [
      "5\n"
     ],
     "output_type": "stream"
    }
   ],
   "source": [
    "def add(x:int, y:int) -> int:\n",
    "    return x + y\n",
    "\n",
    "print(add(2, 3))"
   ],
   "metadata": {
    "collapsed": false,
    "pycharm": {
     "name": "#%%\n",
     "is_executing": false
    }
   }
  },
  {
   "cell_type": "markdown",
   "source": [
    "## 1.3 匿名函数/内联函数\n",
    "问题：想为 sort() 操作创建一个很短的回调函数，但又不想用 def 去写一个单行函数，而是希望通过某个快捷方式以内联方式来创建这个函数\n",
    "解决：使用 lambda 表达式作为匿名函数"
   ],
   "metadata": {
    "collapsed": false
   }
  },
  {
   "cell_type": "code",
   "execution_count": null,
   "outputs": [],
   "source": [
    "names = ['David Beazley', 'Brian Jones', 'Raymond Hettinger', 'Ned Batchelder']\n",
    "print(sorted(names, key=lambda name: name.split()[-1].lower()))"
   ],
   "metadata": {
    "collapsed": false,
    "pycharm": {
     "name": "#%%\n"
    }
   }
  },
  {
   "cell_type": "code",
   "execution_count": 6,
   "outputs": [
    {
     "name": "stdout",
     "text": [
      "5\n",
      "5\n"
     ],
     "output_type": "stream"
    }
   ],
   "source": [
    "add_lambda = lambda x, y: x + y\n",
    "print(add_lambda(2, 3))\n",
    "\n",
    "def add(x, y):\n",
    "    return x + y\n",
    "print(add(2, 3))"
   ],
   "metadata": {
    "collapsed": false,
    "pycharm": {
     "name": "#%%\n",
     "is_executing": false
    }
   }
  },
  {
   "cell_type": "markdown",
   "source": [
    "注意：lambda 表达式的限制是只能写单个表达式\n"
   ],
   "metadata": {
    "collapsed": false
   }
  }
 ],
 "metadata": {
  "kernelspec": {
   "display_name": "Python 3",
   "language": "python",
   "name": "python3"
  },
  "language_info": {
   "codemirror_mode": {
    "name": "ipython",
    "version": 2
   },
   "file_extension": ".py",
   "mimetype": "text/x-python",
   "name": "python",
   "nbconvert_exporter": "python",
   "pygments_lexer": "ipython2",
   "version": "2.7.6"
  },
  "pycharm": {
   "stem_cell": {
    "cell_type": "raw",
    "source": [],
    "metadata": {
     "collapsed": false
    }
   }
  }
 },
 "nbformat": 4,
 "nbformat_minor": 0
}