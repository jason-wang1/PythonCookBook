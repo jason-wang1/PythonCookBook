{
 "cells": [
  {
   "cell_type": "markdown",
   "source": [
    "# 2.字典"
   ],
   "metadata": {
    "collapsed": false
   }
  },
  {
   "cell_type": "markdown",
   "metadata": {
    "collapsed": true,
    "pycharm": {
     "name": "#%% md\n"
    }
   },
   "source": [
    "## 2.1 字典中的键映射多个值\n",
    "问题：怎样实现一个键对应多个值的字典 (也叫 multidict )？"
   ]
  },
  {
   "cell_type": "markdown",
   "source": [
    "解答：将这多个值放到另外的容器中"
   ],
   "metadata": {
    "collapsed": false,
    "pycharm": {
     "name": "#%% md\n"
    }
   }
  },
  {
   "cell_type": "code",
   "execution_count": 9,
   "outputs": [],
   "source": [
    "d = {'a' : [1, 2, 3],\n",
    "     'b' : [4, 5, 2] \n",
    "     } # 使用List保留重复元素\n",
    "\n",
    "e = {'a' : {1, 2, 3, 2},\n",
    "     'c' : {7, 6, 9},\n",
    "     'b' : {4, 5, 2} \n",
    "     } # 使用Set去重，并自动排序"
   ],
   "metadata": {
    "collapsed": false,
    "pycharm": {
     "name": "#%%\n",
     "is_executing": false
    }
   }
  },
  {
   "cell_type": "markdown",
   "source": [
    "使用 collections 模块中的 defaultdict 来构造这样的字典，字典中的value可以指定为list、set等类型："
   ],
   "metadata": {
    "collapsed": false
   }
  },
  {
   "cell_type": "code",
   "execution_count": 5,
   "outputs": [],
   "source": [
    "from collections import defaultdict\n",
    "d = defaultdict(list)\n",
    "d['a'].append(1)\n",
    "d['a'].append(2)\n",
    "d['b'].append(4) "
   ],
   "metadata": {
    "collapsed": false,
    "pycharm": {
     "name": "#%%\n",
     "is_executing": false
    }
   }
  },
  {
   "cell_type": "code",
   "execution_count": null,
   "outputs": [],
   "source": [
    "d = defaultdict(set)\n",
    "d['a'].add(1)\n",
    "d['a'].add(2)\n",
    "d['b'].add(4)"
   ],
   "metadata": {
    "collapsed": false,
    "pycharm": {
     "name": "#%%\n"
    }
   }
  },
  {
   "cell_type": "markdown",
   "source": [
    "## 2.2 字典排序\n",
    "问题：你想创建一个字典，并且在迭代或序列化这个字典的时候能够控制元素的顺序。\n"
   ],
   "metadata": {
    "collapsed": false
   }
  },
  {
   "cell_type": "markdown",
   "source": [
    "解答：使用 collections 模块中的 OrderedDict 类。在迭代操作的时候它会保持元素被插入时的顺序\n",
    "- OrderedDict 内部维护着一个根据键插入顺序排序的双向链表。\n",
    "- 每次当一个新的元素插入进来的时候，它会被放到链表的尾部。\n",
    "- 对于一个已经存在的键的重复赋值不会改变键的顺序。"
   ],
   "metadata": {
    "collapsed": false
   }
  },
  {
   "cell_type": "code",
   "execution_count": 1,
   "outputs": [
    {
     "name": "stdout",
     "text": [
      "foo 1\n",
      "bar 2\n",
      "spam 3\n",
      "grok 4\n"
     ],
     "output_type": "stream"
    }
   ],
   "source": [
    "from collections import OrderedDict\n",
    "d = OrderedDict()\n",
    "d['foo'] = 1\n",
    "d['bar'] = 2\n",
    "d['spam'] = 3\n",
    "d['grok'] = 4 # Outputs \"foo 1\", \"bar 2\", \"spam 3\", \"grok 4\"\n",
    "for key in d:\n",
    "    print(key, d[key])"
   ],
   "metadata": {
    "collapsed": false,
    "pycharm": {
     "name": "#%%\n",
     "is_executing": false
    }
   }
  },
  {
   "cell_type": "markdown",
   "source": [
    "## 2.3 字典的运算\n",
    "\n",
    "问题：怎样在数据字典中执行一些计算操作 (比如求最小值、最大值、排序等等)？\n",
    "\n"
   ],
   "metadata": {
    "collapsed": false
   }
  },
  {
   "cell_type": "code",
   "execution_count": 18,
   "outputs": [],
   "source": [
    "prices = { 'ACME': 10.75, 'AAPL': 612.78, 'IBM': 205.55, 'HPQ': 37.20, 'FB': 10.75}"
   ],
   "metadata": {
    "collapsed": false,
    "pycharm": {
     "name": "#%%\n",
     "is_executing": false
    }
   }
  },
  {
   "cell_type": "markdown",
   "source": [
    "如果你在一个字典上执行普通的数学运算，你会发现它们仅仅作用于键，而不是值。比如："
   ],
   "metadata": {
    "collapsed": false
   }
  },
  {
   "cell_type": "code",
   "execution_count": 3,
   "outputs": [
    {
     "name": "stdout",
     "text": [
      "AAPL\n",
      "IBM\n"
     ],
     "output_type": "stream"
    }
   ],
   "source": [
    "print(min(prices))\n",
    "print(max(prices))"
   ],
   "metadata": {
    "collapsed": false,
    "pycharm": {
     "name": "#%%\n",
     "is_executing": false
    }
   }
  },
  {
   "cell_type": "markdown",
   "source": [
    "尝试着使用字典的 values() 方法来解决这个问题，通常这个结果同样也不是你想要的。你可能还想要知道对应的键的信息：\n"
   ],
   "metadata": {
    "collapsed": false
   }
  },
  {
   "cell_type": "code",
   "execution_count": 5,
   "outputs": [
    {
     "name": "stdout",
     "text": [
      "10.75\n",
      "612.78\n"
     ],
     "output_type": "stream"
    }
   ],
   "source": [
    "print(min(prices.values()))\n",
    "print(max(prices.values()))"
   ],
   "metadata": {
    "collapsed": false,
    "pycharm": {
     "name": "#%%\n",
     "is_executing": false
    }
   }
  },
  {
   "cell_type": "markdown",
   "source": [
    "你可以在 min() 和 max() 函数中提供 key 函数参数来获取最小值或最大值对应的键的信息："
   ],
   "metadata": {
    "collapsed": false
   }
  },
  {
   "cell_type": "code",
   "execution_count": 4,
   "outputs": [
    {
     "name": "stdout",
     "text": [
      "FB\n",
      "AAPL\n"
     ],
     "output_type": "stream"
    }
   ],
   "source": [
    "print(min(prices, key=lambda k: prices[k]))\n",
    "print(max(prices, key=lambda k: prices[k]))"
   ],
   "metadata": {
    "collapsed": false,
    "pycharm": {
     "name": "#%%\n",
     "is_executing": false
    }
   }
  },
  {
   "cell_type": "markdown",
   "source": [
    "如果需要同时获取最小值或最大值对应的键和值的信息，可以先使用zip将字典反转成（值，键），再执行min() 和 max() 操作："
   ],
   "metadata": {
    "collapsed": false
   }
  },
  {
   "cell_type": "code",
   "execution_count": 15,
   "outputs": [
    {
     "name": "stdout",
     "text": [
      "(10.75, 'ACME')\n",
      "(612.78, 'AAPL')\n"
     ],
     "output_type": "stream"
    }
   ],
   "source": [
    "reverse = dict(zip(prices.values(), prices.keys()))\n",
    "print(reverse)\n",
    "print(prices)\n",
    "\n",
    "print(min(zip(prices.values(), prices.keys())))\n",
    "print(max(zip(prices.values(), prices.keys())))"
   ],
   "metadata": {
    "collapsed": false,
    "pycharm": {
     "name": "#%%\n",
     "is_executing": false
    }
   }
  },
  {
   "cell_type": "markdown",
   "source": [
    "## 2.4 两字典比较\n",
    "问题：怎样在两个字典中寻寻找相同点 (比如相同的键、相同的值等等)？"
   ],
   "metadata": {
    "collapsed": false,
    "pycharm": {
     "name": "#%% md\n",
     "is_executing": false
    }
   }
  },
  {
   "cell_type": "code",
   "execution_count": 6,
   "outputs": [
    {
     "name": "stdout",
     "text": [
      "{'y', 'x'}\n",
      "{'z'}\n",
      "{('y', 2)}\n",
      "{('x', 11), ('x', 1), ('z', 3), ('w', 10), ('y', 2)}\n"
     ],
     "output_type": "stream"
    }
   ],
   "source": [
    "a = {'x' : 1, 'y' : 2, 'z' : 3 }\n",
    "b = {'w' : 10, 'x' : 11, 'y' : 2}\n",
    "\n",
    "# Find keys in common\n",
    "print(a.keys() & b.keys())\n",
    "# Find keys in a that are not in b\n",
    "print(a.keys() - b.keys())\n",
    "# Find (key,value) pairs in common\n",
    "print(a.items() & b.items())\n",
    "\n",
    "print(a.items() | b.items())"
   ],
   "metadata": {
    "collapsed": false,
    "pycharm": {
     "name": "#%%\n",
     "is_executing": false
    }
   }
  },
  {
   "cell_type": "markdown",
   "source": [
    "注意：尽管字典的 values() 方法也是类似，但是它并不支持这里介绍的集合操作。\n",
    "某种程度上是因为值视图不能保证所有的值互不相同，这样会导致某些集合操作会出现问题。\n",
    "不过，如果你硬要在值上面执行这些集合操作的话，你可以先将值集合转换成set，然后再执行集合运算就行了。"
   ],
   "metadata": {
    "collapsed": false
   }
  },
  {
   "cell_type": "markdown",
   "source": [
    "## 2.5 从字典中提取子集（字典过滤）\n",
    "问题：构造一个字典，它是另外一个字典的子集。\n",
    "解决：（方式一）使用字典推导"
   ],
   "metadata": {
    "collapsed": false
   }
  },
  {
   "cell_type": "code",
   "execution_count": 1,
   "outputs": [
    {
     "name": "stdout",
     "text": [
      "{'AAPL': 612.78, 'IBM': 205.55}\n",
      "{'AAPL': 612.78, 'IBM': 205.55, 'HPQ': 37.2}\n"
     ],
     "output_type": "stream"
    }
   ],
   "source": [
    "prices = { 'ACME': 45.23, \n",
    "           'AAPL': 612.78, \n",
    "           'IBM': 205.55, \n",
    "           'HPQ': 37.20, \n",
    "           'FB': 10.75}\n",
    "\n",
    "# Make a dictionary of all prices over 200\n",
    "p1 = {key: value for key, value in prices.items() if value > 200}\n",
    "# Make a dictionary of tech stocks\n",
    "tech_names = {'AAPL', 'IBM', 'HPQ', 'MSFT'}\n",
    "p2 = {key: value for key, value in prices.items() if key in tech_names}\n",
    "\n",
    "print(p1)\n",
    "print(p2)"
   ],
   "metadata": {
    "collapsed": false,
    "pycharm": {
     "name": "#%%\n",
     "is_executing": false
    }
   }
  },
  {
   "cell_type": "markdown",
   "source": [
    "## 2.6 合并多个字典或映射\n",
    "问题：有多个字典或者映射，需要将它们从逻辑上合并为一个单一的映射后执行某些操作，比如查找值或者检查某些键是否存在。\n",
    "解决：使用 collections 模块中的 ChainMap 类"
   ],
   "metadata": {
    "collapsed": false
   }
  },
  {
   "cell_type": "code",
   "execution_count": 1,
   "outputs": [
    {
     "name": "stdout",
     "text": [
      "1\n",
      "2\n",
      "3\n"
     ],
     "output_type": "stream"
    }
   ],
   "source": [
    "# 先从 a 中找，如果找不到再在 b 中找\n",
    "a = {'x': 1, 'z': 3 } \n",
    "b = {'y': 2, 'z': 4 }\n",
    "\n",
    "from collections import ChainMap\n",
    "c = ChainMap(a,b)\n",
    "print(c['x']) # Outputs 1 (from a)\n",
    "print(c['y']) # Outputs 2 (from b)\n",
    "print(c['z']) # Outputs 3 (from a)\n"
   ],
   "metadata": {
    "collapsed": false,
    "pycharm": {
     "name": "#%%\n",
     "is_executing": false
    }
   }
  },
  {
   "cell_type": "markdown",
   "source": [
    "- ChainMap 在逻辑上变为一个字典。但是这些字典并不是真的合并在一起了\n",
    "- 如果出现重复键，那么第一次出现的映射值会被返回。因此，例子程序中的 c['z'] 总是会返回字典 a 中对应的值，而不是 b 中对应的值。\n",
    "- 对于字典的更新或删除操作总是影响的是列表中第一个字典"
   ],
   "metadata": {
    "collapsed": false
   }
  },
  {
   "cell_type": "code",
   "execution_count": 4,
   "outputs": [
    {
     "name": "stdout",
     "text": [
      "3\n",
      "['y', 'z', 'x']\n",
      "[2, 10, 1]\n",
      "{'x': 1, 'z': 10}\n",
      "{'y': 2, 'z': 4}\n"
     ],
     "output_type": "stream"
    }
   ],
   "source": [
    "print(len(c))\n",
    "print(list(c.keys()))\n",
    "print(list(c.values()))\n",
    "\n",
    "c['z'] = 10\n",
    "print(a)\n",
    "print(b)"
   ],
   "metadata": {
    "collapsed": false,
    "pycharm": {
     "name": "#%%\n",
     "is_executing": false
    }
   }
  },
  {
   "cell_type": "markdown",
   "source": [
    "- 使用 update() 方法将两个字典合并\n",
    "- 这种方法创建一个新的字典对象，如果对原字典做了更新，这种改变不会反应到新的合并字典中去"
   ],
   "metadata": {
    "collapsed": false
   }
  },
  {
   "cell_type": "code",
   "execution_count": 5,
   "outputs": [
    {
     "name": "stdout",
     "text": [
      "{'y': 2, 'z': 3, 'x': 1}\n"
     ],
     "output_type": "stream"
    }
   ],
   "source": [
    "a = {'x': 1, 'z': 3 }\n",
    "b = {'y': 2, 'z': 4 }\n",
    "merged = dict(b)\n",
    "merged.update(a)\n",
    "print(merged)\n"
   ],
   "metadata": {
    "collapsed": false,
    "pycharm": {
     "name": "#%%\n",
     "is_executing": false
    }
   }
  }
 ],
 "metadata": {
  "kernelspec": {
   "display_name": "Python 3",
   "language": "python",
   "name": "python3"
  },
  "language_info": {
   "codemirror_mode": {
    "name": "ipython",
    "version": 2
   },
   "file_extension": ".py",
   "mimetype": "text/x-python",
   "name": "python",
   "nbconvert_exporter": "python",
   "pygments_lexer": "ipython2",
   "version": "2.7.6"
  },
  "pycharm": {
   "stem_cell": {
    "cell_type": "raw",
    "source": [],
    "metadata": {
     "collapsed": false
    }
   }
  }
 },
 "nbformat": 4,
 "nbformat_minor": 0
}