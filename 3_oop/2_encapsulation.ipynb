{
 "cells": [
  {
   "cell_type": "markdown",
   "metadata": {
    "collapsed": true,
    "pycharm": {
     "name": "#%% md\n"
    }
   },
   "source": [
    "# 2. 封装"
   ]
  },
  {
   "cell_type": "markdown",
   "source": [
    "## 2.1 私有方法\n",
    "问题：如何私有化方法\n",
    "解决：约定是任何以下划线\"_\"开头的名字都是私有方法\n",
    "- 以单下划线开头的方法可以被子类访问，如果被覆写了，则访问子类的方法\n",
    "- 以双下划线开头的方法不能被子类访问\n",
    "- tip: 如果变量名/属性名与关键字冲突，可以在后面加下划线，如：lambda_\n"
   ],
   "metadata": {
    "collapsed": false
   }
  },
  {
   "cell_type": "code",
   "execution_count": 1,
   "outputs": [
    {
     "name": "stdout",
     "text": [
      "A's _private_method\n"
     ],
     "output_type": "stream"
    }
   ],
   "source": [
    "class A:\n",
    "    def __init__(self):\n",
    "        self._internal = 0 # 私有属性\n",
    "        self.public = 1 # 公共属性\n",
    "        \n",
    "    def public_method(self):\n",
    "        '''\n",
    "        A public method\n",
    "        '''\n",
    "        pass\n",
    "\n",
    "    def _private_method(self):\n",
    "        '''\n",
    "        A private method\n",
    "        '''\n",
    "        print(\"A's _private_method\")\n",
    "\n",
    "class B(A):\n",
    "    def __init__(self):\n",
    "        super().__init__()\n",
    "        self._private_method() # 如果子类不覆写，则直接调用父类的方法\n",
    "        self._internal = 2\n",
    "\n",
    "    # def _private_method(self):\n",
    "    #     print(\"B's _private_method\")\n",
    "\n",
    "b = B()"
   ],
   "metadata": {
    "collapsed": false,
    "pycharm": {
     "name": "#%%\n",
     "is_executing": false
    }
   }
  },
  {
   "cell_type": "code",
   "execution_count": 2,
   "outputs": [
    {
     "traceback": [
      "\u001b[0;31m---------------------------------------------------------------------------\u001b[0m",
      "\u001b[0;31mAttributeError\u001b[0m                            Traceback (most recent call last)",
      "\u001b[0;32m<ipython-input-2-997116248f63>\u001b[0m in \u001b[0;36m<module>\u001b[0;34m\u001b[0m\n\u001b[1;32m     20\u001b[0m     \u001b[0;31m#     print(\"D's __private_method\")\u001b[0m\u001b[0;34m\u001b[0m\u001b[0;34m\u001b[0m\u001b[0;34m\u001b[0m\u001b[0m\n\u001b[1;32m     21\u001b[0m \u001b[0;34m\u001b[0m\u001b[0m\n\u001b[0;32m---> 22\u001b[0;31m \u001b[0md\u001b[0m \u001b[0;34m=\u001b[0m \u001b[0mD\u001b[0m\u001b[0;34m(\u001b[0m\u001b[0;34m)\u001b[0m\u001b[0;34m\u001b[0m\u001b[0;34m\u001b[0m\u001b[0m\n\u001b[0m",
      "\u001b[0;32m<ipython-input-2-997116248f63>\u001b[0m in \u001b[0;36m__init__\u001b[0;34m(self)\u001b[0m\n\u001b[1;32m     14\u001b[0m         \u001b[0msuper\u001b[0m\u001b[0;34m(\u001b[0m\u001b[0;34m)\u001b[0m\u001b[0;34m.\u001b[0m\u001b[0m__init__\u001b[0m\u001b[0;34m(\u001b[0m\u001b[0;34m)\u001b[0m\u001b[0;34m\u001b[0m\u001b[0;34m\u001b[0m\u001b[0m\n\u001b[1;32m     15\u001b[0m         \u001b[0mself\u001b[0m\u001b[0;34m.\u001b[0m\u001b[0m_C__private\u001b[0m \u001b[0;34m=\u001b[0m \u001b[0;36m1\u001b[0m\u001b[0;34m\u001b[0m\u001b[0;34m\u001b[0m\u001b[0m\n\u001b[0;32m---> 16\u001b[0;31m         \u001b[0mself\u001b[0m\u001b[0;34m.\u001b[0m\u001b[0m__private_method\u001b[0m\u001b[0;34m(\u001b[0m\u001b[0;34m)\u001b[0m \u001b[0;31m# 没有被子类覆写，也不能调用父类的方法\u001b[0m\u001b[0;34m\u001b[0m\u001b[0;34m\u001b[0m\u001b[0m\n\u001b[0m\u001b[1;32m     17\u001b[0m \u001b[0;34m\u001b[0m\u001b[0m\n\u001b[1;32m     18\u001b[0m     \u001b[0;31m# Does not override C.__private_method()\u001b[0m\u001b[0;34m\u001b[0m\u001b[0;34m\u001b[0m\u001b[0;34m\u001b[0m\u001b[0m\n",
      "\u001b[0;31mAttributeError\u001b[0m: 'D' object has no attribute '_D__private_method'"
     ],
     "ename": "AttributeError",
     "evalue": "'D' object has no attribute '_D__private_method'",
     "output_type": "error"
    }
   ],
   "source": [
    "class C:\n",
    "    def __init__(self):\n",
    "        self.__private = 0\n",
    "    def __private_method(self):\n",
    "        print(\"C's __private_method\")\n",
    "        print(\"C's __private is \"+str(self.__private))\n",
    "    def public_method(self):\n",
    "        pass\n",
    "        self.__private_method()\n",
    "\n",
    "\n",
    "class D(C):\n",
    "    def __init__(self):\n",
    "        super().__init__()\n",
    "        self._C__private = 1\n",
    "        self.__private_method() # 没有被子类覆写，也不能调用父类的方法\n",
    "\n",
    "    # Does not override C.__private_method()\n",
    "    # def __private_method(self):\n",
    "    #     print(\"D's __private_method\")\n",
    "\n",
    "d = D()"
   ],
   "metadata": {
    "collapsed": false,
    "pycharm": {
     "name": "#%%\n",
     "is_executing": false
    }
   }
  },
  {
   "cell_type": "markdown",
   "source": [
    "## 2.2 创建可管理的属性\n",
    "问题：想给某个实例 attribute 增加除访问与修改之外的其他处理逻辑，比如类型检查或合法性验证\n",
    "解决：将属性定义为一个 property"
   ],
   "metadata": {
    "collapsed": false
   }
  },
  {
   "cell_type": "code",
   "execution_count": 3,
   "outputs": [
    {
     "name": "stdout",
     "text": [
      "调用了Setter方法\n",
      "调用了Getter方法\n",
      "Jason\n"
     ],
     "output_type": "stream"
    }
   ],
   "source": [
    "class Person:\n",
    "    def __init__(self, first_name):\n",
    "        self.first_name = first_name\n",
    "\n",
    "    # Getter，使得 first_name 成为一个属性\n",
    "    @property\n",
    "    def first_name(self):\n",
    "        print(\"调用了Getter方法\")\n",
    "        return self._first_name\n",
    "\n",
    "    # Setter，给 first_name 属性添加了 setter\n",
    "    @first_name.setter\n",
    "    def first_name(self, value):\n",
    "        print(\"调用了Setter方法\")\n",
    "        if not isinstance(value, str):\n",
    "            raise TypeError('Expected a string')\n",
    "        self._first_name = value # 底层数据实际保存的地方，另一个属性\n",
    "\n",
    "    # Deleter，给 first_name 属性添加了 deleter\n",
    "    @first_name.deleter\n",
    "    def first_name(self):\n",
    "        print(\"调用了Deleter方法\")\n",
    "        raise AttributeError(\"Can't delete attribute\")\n",
    "\n",
    "p = Person(\"Jason\")\n",
    "print(p.first_name)"
   ],
   "metadata": {
    "collapsed": false,
    "pycharm": {
     "name": "#%%\n",
     "is_executing": false
    }
   }
  },
  {
   "cell_type": "markdown",
   "source": [
    "注意：\n",
    "- Java 程序员总认为所有访问都应该通过 getter 和 setter\n",
    "- 例如下面这种写法，这毫无意义，代码臃肿，程序变慢\n",
    "- 如果以后想给普通属性访问添加额外逻辑时，可以再添加@property，访问这个属性的代码保持不变"
   ],
   "metadata": {
    "collapsed": false
   }
  },
  {
   "cell_type": "code",
   "execution_count": 4,
   "outputs": [],
   "source": [
    "# 不好的案例\n",
    "class Person:\n",
    "    def __init__(self, first_name):\n",
    "        self.first_name = first_name\n",
    "    \n",
    "    @property\n",
    "    def first_name(self):\n",
    "        return self._first_name\n",
    "    \n",
    "    @first_name.setter\n",
    "    def first_name(self, value):\n",
    "        self._first_name = value\n"
   ],
   "metadata": {
    "collapsed": false,
    "pycharm": {
     "name": "#%%\n",
     "is_executing": false
    }
   }
  }
 ],
 "metadata": {
  "kernelspec": {
   "display_name": "Python 3",
   "language": "python",
   "name": "python3"
  },
  "language_info": {
   "codemirror_mode": {
    "name": "ipython",
    "version": 2
   },
   "file_extension": ".py",
   "mimetype": "text/x-python",
   "name": "python",
   "nbconvert_exporter": "python",
   "pygments_lexer": "ipython2",
   "version": "2.7.6"
  },
  "pycharm": {
   "stem_cell": {
    "cell_type": "raw",
    "source": [],
    "metadata": {
     "collapsed": false
    }
   }
  }
 },
 "nbformat": 4,
 "nbformat_minor": 0
}