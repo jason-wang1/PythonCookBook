{
 "cells": [
  {
   "cell_type": "markdown",
   "metadata": {
    "collapsed": true,
    "pycharm": {
     "name": "#%% md\n"
    }
   },
   "source": [
    "# 6. 装饰器（注解）"
   ]
  },
  {
   "cell_type": "markdown",
   "source": [
    "## 6.1 属性的懒加载\n",
    "问题：如何让一个属性在第一次使用时才计算，后面缓存起来\n",
    "解决：使用一个描述器类来实现"
   ],
   "metadata": {
    "collapsed": false
   }
  },
  {
   "cell_type": "code",
   "execution_count": null,
   "outputs": [],
   "source": [
    "class lazyproperty:\n",
    "    def __init__(self, func):\n",
    "        self.func = func\n",
    "\n",
    "    def __get__(self, instance, cls):\n",
    "        if instance is None:\n",
    "            return self\n",
    "        else:\n",
    "            value = self.func(instance)\n",
    "        setattr(instance, self.func.__name__, value)\n",
    "        return value\n",
    "\n",
    "import math\n",
    "\n",
    "class Circle:\n",
    "    def __init__(self, radius):\n",
    "        self.radius = radius\n",
    "\n",
    "    @lazyproperty\n",
    "    def area(self):\n",
    "        print('Computing area')\n",
    "        return math.pi * self.radius ** 2\n",
    "\n",
    "    @lazyproperty\n",
    "    def perimeter(self):\n",
    "        print('Computing perimeter')\n",
    "        return 2 * math.pi * self.radius\n",
    "\n",
    "c = Circle(4.0)\n",
    "print(vars(c))\n",
    "\n",
    "print(c.area)\n",
    "# 查看对象c，发现c.area已经有值了\n",
    "print(vars(c))\n",
    "# 第二次调用 c.area，只会输出一次\"Computing area\"，说明并没有真正地\n",
    "print(c.area)\n",
    "\n",
    "# 删除属性\n",
    "del c.area\n",
    "print(vars(c))\n"
   ],
   "metadata": {
    "collapsed": false,
    "pycharm": {
     "name": "#%%\n"
    }
   }
  },
  {
   "cell_type": "markdown",
   "source": [
    "- 当一个描述器被放入一个类的定义时，每次访问属性时它的 __ get __()、 __ set __() 和 __ delete __() 方法就会被触发\n",
    "- 如果一个描述器仅仅只定义了一个 __ get __() 方法的话，它比通常的具有更弱的绑定：只有当被访问属性不在实例底层的字典中时 __ get __() 方法才会被触发\n"
   ],
   "metadata": {
    "collapsed": false
   }
  },
  {
   "cell_type": "markdown",
   "source": [
    "## 6.2 在函数上添加包装器"
   ],
   "metadata": {
    "collapsed": false
   }
  },
  {
   "cell_type": "markdown",
   "source": [
    "问题：函数上添加一个包装器，增加额外的操作处理 (比如日志、计时等)\n",
    "解决：使用装饰器函数"
   ],
   "metadata": {
    "collapsed": false
   }
  },
  {
   "cell_type": "code",
   "execution_count": 1,
   "outputs": [
    {
     "name": "stdout",
     "text": [
      "countdown 0.007214069366455078\n"
     ],
     "output_type": "stream"
    }
   ],
   "source": [
    "import time\n",
    "from functools import wraps\n",
    "\n",
    "def timethis(func):\n",
    "    '''\n",
    "    用于输出程序执行时间的装饰器\n",
    "    '''\n",
    "\n",
    "    @wraps(func)\n",
    "    def wrapper(*args, **kwargs):\n",
    "        start = time.time()\n",
    "        result = func(*args, **kwargs)\n",
    "        end = time.time()\n",
    "        print(func.__name__, end-start)\n",
    "        return result\n",
    "    return wrapper\n",
    "\n",
    "\n",
    "@timethis\n",
    "def countdown(n):\n",
    "    '''\n",
    "    Counts down\n",
    "    '''\n",
    "    while n > 0:\n",
    "        n -= 1\n",
    "\n",
    "countdown(100000)\n",
    "countdown(10000000)"
   ],
   "metadata": {
    "collapsed": false,
    "pycharm": {
     "name": "#%%\n",
     "is_executing": false
    }
   }
  },
  {
   "cell_type": "markdown",
   "source": [
    "以下两种写法是等价的："
   ],
   "metadata": {
    "collapsed": false
   }
  },
  {
   "cell_type": "code",
   "execution_count": null,
   "outputs": [],
   "source": [
    "# 方式一\n",
    "@timethis\n",
    "def countdown(n):\n",
    "    pass"
   ],
   "metadata": {
    "collapsed": false,
    "pycharm": {
     "name": "#%%\n"
    }
   }
  },
  {
   "cell_type": "code",
   "execution_count": null,
   "outputs": [],
   "source": [
    "# 方式二\n",
    "def countdown(n):\n",
    "    pass\n",
    "countdown = timethis(countdown)\n"
   ],
   "metadata": {
    "collapsed": false,
    "pycharm": {
     "name": "#%%\n"
    }
   }
  },
  {
   "cell_type": "markdown",
   "source": [
    "## 6.3 创建装饰器时保留函数元信息\n",
    "问题：写了一个装饰器作用在某个函数上，怎样使这个函数的元信息比如名字、文档字符串、注解和参数签名不丢失\n",
    "解决：任何时候定义装饰器时，都应该使用 functools 库中的 @wraps 装饰器来注解底层包装函数"
   ],
   "metadata": {
    "collapsed": false
   }
  },
  {
   "cell_type": "code",
   "execution_count": 4,
   "outputs": [
    {
     "name": "stdout",
     "text": [
      "countdown 0.0008609294891357422\n",
      "countdown\n",
      "\n",
      "    Counts down\n",
      "    \n",
      "{'n': <class 'int'>}\n"
     ],
     "output_type": "stream"
    }
   ],
   "source": [
    "import time\n",
    "from functools import wraps\n",
    "\n",
    "def timethis(func):\n",
    "    \"\"\"\n",
    "    Decorator that reports the execution time.\n",
    "    \"\"\"\n",
    "    \n",
    "    # 必须要用wraps进行包装\n",
    "    @wraps(func)\n",
    "    def wrapper(*args, **kwargs):\n",
    "        start = time.time()\n",
    "        result = func(*args, **kwargs)\n",
    "        end = time.time()\n",
    "        print(func.__name__, end-start)\n",
    "        return result\n",
    "    return wrapper\n",
    "\n",
    "@timethis\n",
    "def countdown(n:int):\n",
    "    \"\"\"\n",
    "    Counts down\n",
    "    \"\"\"\n",
    "    \n",
    "    while n > 0:\n",
    "        n -= 1\n",
    "\n",
    "countdown(10000)\n",
    "print(countdown.__name__)\n",
    "print(countdown.__doc__)\n",
    "print(countdown.__annotations__)"
   ],
   "metadata": {
    "collapsed": false,
    "pycharm": {
     "name": "#%%\n",
     "is_executing": false
    }
   }
  },
  {
   "cell_type": "markdown",
   "source": [
    "## 6.4 解除一个装饰器\n",
    "问题：一个装饰器已经作用在一个函数上，想撤销它，直接访问原始的未包装的那个函数\n",
    "解决：通过访问 __ wrapped __ 属性来访问原始函数\n",
    "注意：如果有多个包装器，那么访问 wrapped 属性的行为是不可预知的，应该避免这样做"
   ],
   "metadata": {
    "collapsed": false,
    "pycharm": {
     "name": "#%% md\n"
    }
   }
  },
  {
   "cell_type": "code",
   "source": [
    "import time\n",
    "from functools import wraps\n",
    "\n",
    "def timethis(func):\n",
    "    \"\"\"\n",
    "    Decorator that reports the execution time.\n",
    "    \"\"\"\n",
    "    \n",
    "    # 必须要用wraps进行包装\n",
    "    @wraps(func)\n",
    "    def wrapper(*args, **kwargs):\n",
    "        start = time.time()\n",
    "        result = func(*args, **kwargs)\n",
    "        end = time.time()\n",
    "        print(func.__name__, end-start)\n",
    "        return result\n",
    "    return wrapper\n",
    "\n",
    "@timethis\n",
    "def add(x, y):\n",
    "    return x+y\n",
    "\n",
    "print(add(10, 5))\n",
    "\n",
    "print(\"\\n解除装饰器：\")\n",
    "orig_add = add.__wrapped__\n",
    "print(orig_add(10, 5))"
   ],
   "metadata": {
    "collapsed": false,
    "pycharm": {
     "name": "#%%\n",
     "is_executing": false
    }
   },
   "execution_count": 11,
   "outputs": [
    {
     "name": "stdout",
     "text": [
      "add 2.1457672119140625e-06\n",
      "15\n",
      "\n",
      "解除装饰器：\n",
      "15\n"
     ],
     "output_type": "stream"
    }
   ]
  },
  {
   "cell_type": "markdown",
   "source": [
    "## 定义一个带参数的装饰器\n",
    "问题：怎样定义一个可以接受参数的装饰器\n",
    "解决：最外层的函数 logged() 接受参数并将它们作用在内部的装饰器函数上面。内层的函数 decorate() 接受一个函数作为参数，然后在函数上面放置一个包装器。这里的关键点是包装器是可以使用传递给 logged() 的参数的。"
   ],
   "metadata": {
    "collapsed": false
   }
  },
  {
   "cell_type": "code",
   "execution_count": null,
   "outputs": [],
   "source": [
    "from functools import wraps\n",
    "import logging\n",
    "def logged(level, name=None, message=None):\n",
    "    \"\"\"\n",
    "    Add logging to a function. level is the logging\n",
    "    level, name is the logger name, and message is the\n",
    "    log message. If name and message aren't specified,\n",
    "    they default to the function's module and name.\n",
    "    \"\"\"\n",
    "    def decorate(func):\n",
    "        logname = name if name else func.__module__\n",
    "        log = logging.getLogger(logname)\n",
    "        logmsg = message if message else func.__name__\n",
    "        @wraps(func)\n",
    "        def wrapper(*args, **kwargs):\n",
    "            log.log(level, logmsg)\n",
    "            return func(*args, **kwargs)\n",
    "        return wrapper\n",
    "    return decorate\n",
    "\n",
    "# Example use\n",
    "@logged(logging.DEBUG)\n",
    "def add(x, y):\n",
    "    return x + y\n",
    "\n",
    "@logged(logging.CRITICAL, 'example')\n",
    "def spam():\n",
    "    print('Spam!')\n"
   ],
   "metadata": {
    "collapsed": false,
    "pycharm": {
     "name": "#%%\n"
    }
   }
  }
 ],
 "metadata": {
  "kernelspec": {
   "display_name": "Python 3",
   "language": "python",
   "name": "python3"
  },
  "language_info": {
   "codemirror_mode": {
    "name": "ipython",
    "version": 2
   },
   "file_extension": ".py",
   "mimetype": "text/x-python",
   "name": "python",
   "nbconvert_exporter": "python",
   "pygments_lexer": "ipython2",
   "version": "2.7.6"
  },
  "pycharm": {
   "stem_cell": {
    "cell_type": "raw",
    "source": [],
    "metadata": {
     "collapsed": false
    }
   }
  }
 },
 "nbformat": 4,
 "nbformat_minor": 0
}