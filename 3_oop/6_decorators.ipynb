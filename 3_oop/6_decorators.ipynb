{
 "cells": [
  {
   "cell_type": "markdown",
   "metadata": {
    "collapsed": true,
    "pycharm": {
     "name": "#%% md\n"
    }
   },
   "source": [
    "# 6. 装饰器（注解）"
   ]
  },
  {
   "cell_type": "markdown",
   "source": [
    "## 6.1 属性的懒加载\n",
    "问题：如何让一个属性在第一次使用时才计算，后面缓存起来\n",
    "解决：使用一个描述器类来实现"
   ],
   "metadata": {
    "collapsed": false
   }
  },
  {
   "cell_type": "code",
   "execution_count": null,
   "outputs": [],
   "source": [
    "class lazyproperty:\n",
    "    def __init__(self, func):\n",
    "        self.func = func\n",
    "\n",
    "    def __get__(self, instance, cls):\n",
    "        if instance is None:\n",
    "            return self\n",
    "        else:\n",
    "            value = self.func(instance)\n",
    "        setattr(instance, self.func.__name__, value)\n",
    "        return value\n",
    "\n",
    "import math\n",
    "\n",
    "class Circle:\n",
    "    def __init__(self, radius):\n",
    "        self.radius = radius\n",
    "\n",
    "    @lazyproperty\n",
    "    def area(self):\n",
    "        print('Computing area')\n",
    "        return math.pi * self.radius ** 2\n",
    "\n",
    "    @lazyproperty\n",
    "    def perimeter(self):\n",
    "        print('Computing perimeter')\n",
    "        return 2 * math.pi * self.radius\n",
    "\n",
    "c = Circle(4.0)\n",
    "print(vars(c))\n",
    "\n",
    "print(c.area)\n",
    "# 查看对象c，发现c.area已经有值了\n",
    "print(vars(c))\n",
    "# 第二次调用 c.area，只会输出一次\"Computing area\"，说明并没有真正地\n",
    "print(c.area)\n",
    "\n",
    "# 删除属性\n",
    "del c.area\n",
    "print(vars(c))\n"
   ],
   "metadata": {
    "collapsed": false,
    "pycharm": {
     "name": "#%%\n"
    }
   }
  },
  {
   "cell_type": "markdown",
   "source": [
    "- 当一个描述器被放入一个类的定义时，每次访问属性时它的 __ get __()、 __ set __() 和 __ delete __() 方法就会被触发\n",
    "- 如果一个描述器仅仅只定义了一个 __ get __() 方法的话，它比通常的具有更弱的绑定：只有当被访问属性不在实例底层的字典中时 __ get __() 方法才会被触发\n",
    "\n"
   ],
   "metadata": {
    "collapsed": false
   }
  }
 ],
 "metadata": {
  "kernelspec": {
   "display_name": "Python 3",
   "language": "python",
   "name": "python3"
  },
  "language_info": {
   "codemirror_mode": {
    "name": "ipython",
    "version": 2
   },
   "file_extension": ".py",
   "mimetype": "text/x-python",
   "name": "python",
   "nbconvert_exporter": "python",
   "pygments_lexer": "ipython2",
   "version": "2.7.6"
  },
  "pycharm": {
   "stem_cell": {
    "cell_type": "raw",
    "source": [],
    "metadata": {
     "collapsed": false
    }
   }
  }
 },
 "nbformat": 4,
 "nbformat_minor": 0
}