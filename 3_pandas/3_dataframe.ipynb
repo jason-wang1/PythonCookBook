{
 "cells": [
  {
   "cell_type": "markdown",
   "metadata": {
    "collapsed": true,
    "pycharm": {
     "name": "#%% md\n"
    }
   },
   "source": [
    "# Pandas DataFrame\n",
    "参考资料：\n",
    "[pandas 官方文档](https://pandas.pydata.org/docs/user_guide/dsintro.html#dataframe)"
   ]
  },
  {
   "cell_type": "markdown",
   "source": [
    "## DataFrame 是什么\n",
    "- 是二维的、带标签的数据结构\n",
    "- 可以看作 Sql 表，或者是 Series 对象的的字典（一个序列对象就是一列）\n",
    "- 拥有行索引 index（可选）\n",
    "- 拥有列索引 columns（可选）\n",
    "- 如果加了索引或列名，不匹配的数据将会被丢弃掉\n",
    "- 对于 Python version >= 3.6 and pandas >= 0.23，DataFrame 列的顺序是插入这些列的顺序；否则为列名的字典顺序"
   ],
   "metadata": {
    "collapsed": false
   }
  },
  {
   "cell_type": "markdown",
   "source": [
    "## 怎样创建一个DataFrame"
   ],
   "metadata": {
    "collapsed": false
   }
  },
  {
   "cell_type": "markdown",
   "source": [
    "### 1. 通过 Series 的字典创建"
   ],
   "metadata": {
    "collapsed": false
   }
  },
  {
   "cell_type": "code",
   "execution_count": 6,
   "outputs": [
    {
     "name": "stdout",
     "text": [
      "   one  two\n",
      "a  1.0  1.0\n",
      "b  2.0  2.0\n",
      "c  3.0  3.0\n",
      "d  NaN  4.0\n",
      "\n",
      "\n",
      "   one  two\n",
      "d  NaN  4.0\n",
      "b  2.0  2.0\n",
      "a  1.0  1.0\n",
      "\n",
      "\n",
      "   two three\n",
      "d  4.0   NaN\n",
      "b  2.0   NaN\n",
      "a  1.0   NaN\n"
     ],
     "output_type": "stream"
    }
   ],
   "source": [
    "import pandas as pd\n",
    "d = {\n",
    "   \"one\": pd.Series([1.0, 2.0, 3.0], index=[\"a\", \"b\", \"c\"]),\n",
    "   \"two\": pd.Series([1.0, 2.0, 3.0, 4.0], index=[\"a\", \"b\", \"c\", \"d\"]),\n",
    "   }\n",
    "\n",
    "df = pd.DataFrame(d)\n",
    "print(df)\n",
    "print(\"\\n\")\n",
    "\n",
    "df = pd.DataFrame(d, index=[\"d\", \"b\", \"a\"])\n",
    "print(df)\n",
    "print(\"\\n\")\n",
    "\n",
    "df = pd.DataFrame(d, index=[\"d\", \"b\", \"a\"], columns=[\"two\", \"three\"])\n",
    "print(df)\n"
   ],
   "metadata": {
    "collapsed": false,
    "pycharm": {
     "name": "#%%\n",
     "is_executing": false
    }
   }
  },
  {
   "cell_type": "markdown",
   "source": [
    "### 2. 通过 ndarrays / lists 的字典创建\n",
    "注意：ndarrays / lists 的长度必须相同"
   ],
   "metadata": {
    "collapsed": false
   }
  },
  {
   "cell_type": "code",
   "execution_count": 9,
   "outputs": [
    {
     "name": "stdout",
     "text": [
      "   one  two\n",
      "0  1.0  4.0\n",
      "1  2.0  3.0\n",
      "2  3.0  2.0\n",
      "3  4.0  1.0\n",
      "\n",
      "\n",
      "   one  two\n",
      "a  1.0  4.0\n",
      "b  2.0  3.0\n",
      "c  3.0  2.0\n",
      "d  4.0  1.0\n"
     ],
     "output_type": "stream"
    }
   ],
   "source": [
    "d = {\"one\": [1.0, 2.0, 3.0, 4.0], \"two\": [4.0, 3.0, 2.0, 1.0]}\n",
    "df = pd.DataFrame(d)\n",
    "print(df)\n",
    "print(\"\\n\")\n",
    "\n",
    "df = pd.DataFrame(d, index=[\"a\", \"b\", \"c\", \"d\"])\n",
    "print(df)"
   ],
   "metadata": {
    "collapsed": false,
    "pycharm": {
     "name": "#%%\n",
     "is_executing": false
    }
   }
  },
  {
   "cell_type": "markdown",
   "source": [
    "### 3. 通过 ndarrays 的创建\n",
    "注意：ndarrays 的每一个元素是一个元组，是 DataFrame 的一行记录"
   ],
   "metadata": {
    "collapsed": false
   }
  },
  {
   "cell_type": "code",
   "execution_count": 14,
   "outputs": [
    {
     "name": "stdout",
     "text": [
      "[(0, 0., b'') (0, 0., b'')]\n",
      "[(1, 2., b'Hello') (2, 3., b'World')]\n",
      "   A    B         C\n",
      "0  1  2.0  b'Hello'\n",
      "1  2  3.0  b'World'\n",
      "        A    B         C\n",
      "first   1  2.0  b'Hello'\n",
      "second  2  3.0  b'World'\n",
      "          C  A    B\n",
      "0  b'Hello'  1  2.0\n",
      "1  b'World'  2  3.0\n"
     ],
     "output_type": "stream"
    }
   ],
   "source": [
    "import numpy as np\n",
    "\n",
    "data = np.zeros((2,), dtype=[(\"A\", \"i4\"), (\"B\", \"f4\"), (\"C\", \"a10\")])\n",
    "print(data)\n",
    "\n",
    "data[:] = [(1, 2.0, \"Hello\"), (2, 3.0, \"World\")]\n",
    "print(data)\n",
    "\n",
    "df = pd.DataFrame(data)\n",
    "print(df)\n",
    "\n",
    "df = pd.DataFrame(data, index=[\"first\", \"second\"])\n",
    "print(df)\n",
    "\n",
    "df = pd.DataFrame(data, columns=[\"C\", \"A\", \"B\"])\n",
    "print(df)"
   ],
   "metadata": {
    "collapsed": false,
    "pycharm": {
     "name": "#%%\n",
     "is_executing": false
    }
   }
  },
  {
   "cell_type": "markdown",
   "source": [
    "## 数据选择"
   ],
   "metadata": {
    "collapsed": false
   }
  },
  {
   "cell_type": "markdown",
   "source": [
    "### 1. 列选择、添加、删除\n",
    "可以在语义上将 DataFrame 视为 Series 对象的字典。获取、设置和删除列的操作语法与类似dict操作的语法相同"
   ],
   "metadata": {
    "collapsed": false
   }
  },
  {
   "cell_type": "code",
   "execution_count": 6,
   "outputs": [
    {
     "name": "stdout",
     "text": [
      "选择列：\n",
      "a    1.0\n",
      "b    2.0\n",
      "c    3.0\n",
      "d    NaN\n",
      "Name: one, dtype: float64\n",
      "\n",
      "添加列：\n",
      "   one  two  three   flag  foo  one_trunc\n",
      "a  1.0  1.0    1.0  False  bar        1.0\n",
      "b  2.0  2.0    4.0  False  bar        2.0\n",
      "c  3.0  3.0    9.0   True  bar        NaN\n",
      "d  NaN  4.0    NaN  False  bar        NaN\n",
      "\n",
      "删除列：\n",
      "   one   flag  foo  one_trunc\n",
      "a  1.0  False  bar        1.0\n",
      "b  2.0  False  bar        2.0\n",
      "c  3.0   True  bar        NaN\n",
      "d  NaN  False  bar        NaN\n"
     ],
     "output_type": "stream"
    }
   ],
   "source": [
    "import pandas as pd\n",
    "d = {\n",
    "   \"one\": pd.Series([1.0, 2.0, 3.0], index=[\"a\", \"b\", \"c\"]),\n",
    "   \"two\": pd.Series([1.0, 2.0, 3.0, 4.0], index=[\"a\", \"b\", \"c\", \"d\"]),\n",
    "   }\n",
    "\n",
    "df = pd.DataFrame(d)\n",
    "\n",
    "print(\"选择列：\")\n",
    "print(df[\"one\"])\n",
    "\n",
    "print(\"\\n添加列：\")\n",
    "df[\"three\"] = df[\"one\"] * df[\"two\"]\n",
    "df[\"flag\"] = df[\"one\"] > 2\n",
    "df[\"foo\"] = \"bar\"\n",
    "df[\"one_trunc\"] = df[\"one\"][:2]\n",
    "print(df)\n",
    "\n",
    "print(\"\\n删除列：\")\n",
    "del df[\"two\"]\n",
    "df.pop(\"three\")\n",
    "print(df)"
   ],
   "metadata": {
    "collapsed": false,
    "pycharm": {
     "name": "#%%\n",
     "is_executing": false
    }
   }
  },
  {
   "cell_type": "markdown",
   "source": [
    "### 2. 按 列 / 行 选择数据\n",
    "| 操作   | 语法   |  输出\n",
    "| ---- | ---- | ---- |\n",
    "|   选择列   |   df[col] 或 df[[cols]]   |   Series 或 DataFrame   |\n",
    "|   通过每行的标签选择行   |   df.loc[label]   |   Series   |\n",
    "|   通过行号选择行   |   df.iloc[loc]   |   Series   |\n",
    "|   按行切分   |   df[5:10]   |   DataFrame   |\n",
    "|   通过布尔向量选择行   |   df[[bool_vec]]   |   DataFrame   |"
   ],
   "metadata": {
    "collapsed": false
   }
  },
  {
   "cell_type": "code",
   "execution_count": 17,
   "outputs": [
    {
     "name": "stdout",
     "text": [
      "选择列\n",
      "    flag  one\n",
      "a  False  1.0\n",
      "b  False  2.0\n",
      "c   True  3.0\n",
      "d  False  NaN\n",
      "\n",
      "通过每行的标签选择行\n",
      "one            2.0\n",
      "flag         False\n",
      "foo            bar\n",
      "one_trunc      2.0\n",
      "Name: b, dtype: object\n",
      "\n",
      "通过行号选择行\n",
      "one           3.0\n",
      "flag         True\n",
      "foo           bar\n",
      "one_trunc     NaN\n",
      "Name: c, dtype: object\n",
      "\n",
      "按行切分\n",
      "   one   flag  foo  one_trunc\n",
      "b  2.0  False  bar        2.0\n",
      "c  3.0   True  bar        NaN\n",
      "\n",
      "通过布尔向量选择行\n",
      "   one   flag  foo  one_trunc\n",
      "a  1.0  False  bar        1.0\n",
      "c  3.0   True  bar        NaN\n"
     ],
     "output_type": "stream"
    }
   ],
   "source": [
    "print(\"选择列\")\n",
    "print(df[[\"flag\", \"one\"]])\n",
    "\n",
    "print(\"\\n通过每行的标签选择行\")\n",
    "print(df.loc[\"b\"])\n",
    "\n",
    "print(\"\\n通过行号选择行\")\n",
    "print(df.iloc[2])\n",
    "\n",
    "print(\"\\n按行切分\")\n",
    "print(df[1:3])\n",
    "\n",
    "print(\"\\n通过布尔向量选择行\")\n",
    "print(df[[True, False, True, False]])"
   ],
   "metadata": {
    "collapsed": false,
    "pycharm": {
     "name": "#%%\n",
     "is_executing": false
    }
   }
  },
  {
   "cell_type": "markdown",
   "source": [
    "### 3. 创建新的列 / 覆写现有的列，返回新的 DataFrame"
   ],
   "metadata": {
    "collapsed": false,
    "pycharm": {
     "name": "#%% md\n"
    }
   }
  },
  {
   "cell_type": "code",
   "execution_count": 4,
   "outputs": [
    {
     "name": "stdout",
     "text": [
      "   SepalLength  SepalWidth  PetalLength  PetalWidth  target\n",
      "0          5.1         3.5          1.4         0.2     0.0\n",
      "1          4.9         3.0          1.4         0.2     0.0\n",
      "2          4.7         3.2          1.3         0.2     0.0\n",
      "3          4.6         3.1          1.5         0.2     0.0\n",
      "4          5.0         3.6          1.4         0.2     0.0\n",
      "   SepalLength  SepalWidth  PetalLength  PetalWidth  target  sepal_ratio\n",
      "0          5.1         3.5          1.4         0.2     0.0     0.686275\n",
      "1          4.9         3.0          1.4         0.2     0.0     0.612245\n",
      "2          4.7         3.2          1.3         0.2     0.0     0.680851\n",
      "3          4.6         3.1          1.5         0.2     0.0     0.673913\n",
      "4          5.0         3.6          1.4         0.2     0.0     0.720000\n",
      "   SepalLength  SepalWidth  PetalLength  PetalWidth  target  sepal_ratio\n",
      "0          5.1         3.5          1.4         0.2     0.0     0.686275\n",
      "1          4.9         3.0          1.4         0.2     0.0     0.612245\n",
      "2          4.7         3.2          1.3         0.2     0.0     0.680851\n",
      "3          4.6         3.1          1.5         0.2     0.0     0.673913\n",
      "4          5.0         3.6          1.4         0.2     0.0     0.720000\n",
      "   SepalLength  SepalWidth  PetalLength  PetalWidth  target\n",
      "0          5.1         3.5          1.4         0.2     0.0\n",
      "1          4.9         3.0          1.4         0.2     0.0\n",
      "2          4.7         3.2          1.3         0.2     0.0\n",
      "3          4.6         3.1          1.5         0.2     0.0\n",
      "4          5.0         3.6          1.4         0.2     0.0\n"
     ],
     "output_type": "stream"
    }
   ],
   "source": [
    "from sklearn.datasets import load_iris\n",
    "import pandas as pd\n",
    "import numpy as np\n",
    "\n",
    "iris = load_iris()\n",
    "\n",
    "df = pd.DataFrame(data=np.c_[iris['data'], iris['target']], columns=iris['feature_names']+['target'])\n",
    "\n",
    "df.rename(columns={'sepal length (cm)':'SepalLength', \n",
    "                   'sepal width (cm)':'SepalWidth', \n",
    "                   'petal length (cm)':'PetalLength',\n",
    "                   'petal width (cm)':'PetalWidth'}, \n",
    "          inplace=True)\n",
    "print(df.head())\n",
    "\n",
    "# 方式一\n",
    "print(df.assign(sepal_ratio=df[\"SepalWidth\"] / df[\"SepalLength\"]).head())\n",
    "\n",
    "# 方式二\n",
    "print(df.assign(sepal_ratio=lambda x: (x[\"SepalWidth\"] / x[\"SepalLength\"])).head())"
   ],
   "metadata": {
    "collapsed": false,
    "pycharm": {
     "name": "#%%\n",
     "is_executing": false
    }
   }
  },
  {
   "cell_type": "markdown",
   "source": [
    "注意：**assign 总是返回数据的副本，而原始DataFrame保持不变**"
   ],
   "metadata": {
    "collapsed": false,
    "pycharm": {
     "name": "#%% md\n"
    }
   }
  },
  {
   "cell_type": "code",
   "execution_count": 5,
   "outputs": [
    {
     "name": "stdout",
     "text": [
      "   SepalLength  SepalWidth  PetalLength  PetalWidth  target\n",
      "0          5.1         3.5          1.4         0.2     0.0\n",
      "1          4.9         3.0          1.4         0.2     0.0\n",
      "2          4.7         3.2          1.3         0.2     0.0\n",
      "3          4.6         3.1          1.5         0.2     0.0\n",
      "4          5.0         3.6          1.4         0.2     0.0\n"
     ],
     "output_type": "stream"
    }
   ],
   "source": [
    "print(df.head())\n"
   ],
   "metadata": {
    "collapsed": false,
    "pycharm": {
     "name": "#%%\n",
     "is_executing": false
    }
   }
  },
  {
   "cell_type": "markdown",
   "source": [
    "## 算数运算"
   ],
   "metadata": {
    "collapsed": false
   }
  },
  {
   "cell_type": "markdown",
   "source": [
    "### 1. DataFrame 之间的运算\n",
    "会自动对齐，无法对齐计算的结果为NaN"
   ],
   "metadata": {
    "collapsed": false
   }
  },
  {
   "cell_type": "code",
   "execution_count": 22,
   "outputs": [
    {
     "name": "stdout",
     "text": [
      "          A         B         C   D\n",
      "0 -2.146374  2.816157 -0.233808 NaN\n",
      "1  0.084840 -1.295670  1.572045 NaN\n",
      "2 -1.858359  1.031073  0.012748 NaN\n",
      "3 -1.678174  0.612198 -0.743227 NaN\n",
      "4  0.259344  3.149538  1.528738 NaN\n",
      "5 -0.115171  2.005839 -0.363523 NaN\n",
      "6  1.517893  0.845197 -0.713599 NaN\n",
      "7       NaN       NaN       NaN NaN\n",
      "8       NaN       NaN       NaN NaN\n",
      "9       NaN       NaN       NaN NaN\n"
     ],
     "output_type": "stream"
    }
   ],
   "source": [
    "df = pd.DataFrame(np.random.randn(10, 4), columns=[\"A\", \"B\", \"C\", \"D\"])\n",
    "df2 = pd.DataFrame(np.random.randn(7, 3), columns=[\"A\", \"B\", \"C\"])\n",
    "\n",
    "print(df+df2)"
   ],
   "metadata": {
    "collapsed": false,
    "pycharm": {
     "name": "#%%\n",
     "is_executing": false
    }
   }
  },
  {
   "cell_type": "markdown",
   "source": [
    "### 2. DataFrame 与 Series 之间的运算\n",
    "默认行为是在DataFrame列上对齐Series索引"
   ],
   "metadata": {
    "collapsed": false
   }
  },
  {
   "cell_type": "code",
   "execution_count": 23,
   "outputs": [
    {
     "name": "stdout",
     "text": [
      "          A         B         C         D\n",
      "0  0.000000  0.000000  0.000000  0.000000\n",
      "1 -0.122818 -2.804331  1.023692 -0.179254\n",
      "2 -1.715853 -1.396656  0.064808  0.471526\n",
      "3 -1.406908 -2.379344 -1.177743 -0.453933\n",
      "4 -1.452593 -2.335547  0.730372  0.353130\n",
      "5 -1.978379 -0.226348 -0.501059 -2.212686\n",
      "6  0.200042 -3.092785  0.139767 -0.646990\n",
      "7 -2.454655 -2.581250 -1.433988  1.170834\n",
      "8 -0.740658 -2.097519  0.396698 -0.403309\n",
      "9 -0.606310 -2.403896 -0.539102 -0.991267\n"
     ],
     "output_type": "stream"
    }
   ],
   "source": [
    "print(df - df.iloc[0])"
   ],
   "metadata": {
    "collapsed": false,
    "pycharm": {
     "name": "#%%\n",
     "is_executing": false
    }
   }
  },
  {
   "cell_type": "markdown",
   "source": [
    "### 3. DataFrame 与标量计算"
   ],
   "metadata": {
    "collapsed": false
   }
  },
  {
   "cell_type": "code",
   "execution_count": 25,
   "outputs": [
    {
     "name": "stdout",
     "text": [
      "          A          B         C         D\n",
      "0  6.326814  14.296686  1.620653  3.488176\n",
      "1  5.712723   0.275031  6.739112  2.591908\n",
      "2 -2.252453   7.313406  1.944691  5.845804\n",
      "3 -0.707726   2.399967 -4.268061  1.218508\n",
      "4 -0.936149   2.618950  5.272513  5.253826\n",
      "5 -3.565082  13.164948 -0.884644 -7.575253\n",
      "6  7.327024  -1.167238  2.319490  0.253225\n",
      "7 -5.946459   1.390434 -5.549286  9.342348\n",
      "8  2.623522   3.809092  3.604141  1.471633\n",
      "9  3.295266   2.277205 -1.074859 -1.468161\n",
      "\n",
      "\n",
      "          A          B          C         D\n",
      "0  1.155585   0.406614 -13.180555  3.359818\n",
      "1  1.346721  -2.898603   1.055050  8.447260\n",
      "2 -1.175792   0.941016 -90.401408  1.300118\n",
      "3 -1.846568  12.501045  -0.797695 -6.398021\n",
      "4 -1.702911   8.078202   1.527878  1.536653\n",
      "5 -0.898459   0.447830  -1.733316 -0.522179\n",
      "6  0.938610  -1.578663  15.649947 -2.862418\n",
      "7 -0.629211  -8.202555  -0.662314  0.680981\n",
      "8  8.018957   2.763817   3.116933 -9.463115\n",
      "9  3.860211  18.037212  -1.626091 -1.441686\n",
      "\n",
      "\n",
      "          A          B             C          D\n",
      "0  0.560781  36.582409  3.313334e-05   0.007848\n",
      "1  0.304012   0.014166  8.070639e-01   0.000196\n",
      "2  0.523213   1.275299  1.497267e-08   0.350000\n",
      "3  0.086008   0.000041  2.469750e+00   0.000597\n",
      "4  0.118914   0.000235  1.835040e-01   0.179348\n",
      "5  1.534639  24.862617  1.107870e-01  13.449963\n",
      "6  1.288423   0.161006  1.667050e-05   0.014896\n",
      "7  6.379910   0.000221  5.196888e+00   4.650073\n",
      "8  0.000242   0.017138  1.059474e-02   0.000125\n",
      "9  0.004504   0.000009  1.430279e-01   0.231482\n"
     ],
     "output_type": "stream"
    }
   ],
   "source": [
    "print(df * 5 + 2)\n",
    "print(\"\\n\")\n",
    "\n",
    "print(1 / df)\n",
    "print(\"\\n\")\n",
    "\n",
    "print(df ** 4)"
   ],
   "metadata": {
    "collapsed": false,
    "pycharm": {
     "name": "#%%\n",
     "is_executing": false
    }
   }
  },
  {
   "cell_type": "markdown",
   "source": [
    "### 4. DataFrame 转置"
   ],
   "metadata": {
    "collapsed": false
   }
  },
  {
   "cell_type": "code",
   "execution_count": 26,
   "outputs": [
    {
     "name": "stdout",
     "text": [
      "          0         1         2         3         4\n",
      "A  0.865363  0.742545 -0.850491 -0.541545 -0.587230\n",
      "B  2.459337 -0.344994  1.062681  0.079993  0.123790\n",
      "C -0.075869  0.947822 -0.011062 -1.253612  0.654503\n",
      "D  0.297635  0.118382  0.769161 -0.156298  0.650765\n"
     ],
     "output_type": "stream"
    }
   ],
   "source": [
    "print(df[:5].T)"
   ],
   "metadata": {
    "collapsed": false,
    "pycharm": {
     "name": "#%%\n",
     "is_executing": false
    }
   }
  },
  {
   "cell_type": "markdown",
   "source": [
    "## DataFrame与NumPy函数的互操作"
   ],
   "metadata": {
    "collapsed": false
   }
  },
  {
   "cell_type": "markdown",
   "source": [
    "### 1. 使用NumPy ufuncs（log，exp，sqrt等）对 DataFrame 进行计算"
   ],
   "metadata": {
    "collapsed": false
   }
  },
  {
   "cell_type": "code",
   "execution_count": 33,
   "outputs": [
    {
     "name": "stdout",
     "text": [
      "          A         B         C         D\n",
      "0  0.920363 -1.136099  0.039272 -0.056404\n",
      "1 -1.042451  0.486291  0.466590  1.097513\n",
      "2  0.863837 -1.107791  0.084759  0.478753\n",
      "3  0.897284  0.558088 -0.179154 -0.461662\n",
      "4  0.886460 -1.282126 -0.152255 -1.087159\n",
      "5 -0.584089 -0.187413  1.342429 -0.617281\n",
      "6 -1.173771 -0.448081 -1.570684 -1.361098\n",
      "7 -1.510312 -0.871244  0.177987 -0.585025\n",
      "8 -0.150362 -0.256548 -0.490751  0.443875\n",
      "9 -0.365964 -0.064101 -0.966917  0.612064\n",
      "\n",
      "指数计算\n",
      "          A         B         C         D\n",
      "0  2.510200  0.321069  1.040053  0.945157\n",
      "1  0.352589  1.626274  1.594548  2.996705\n",
      "2  2.372245  0.330288  1.088454  1.614061\n",
      "3  2.452933  1.747329  0.835977  0.630236\n",
      "4  2.426523  0.277447  0.858769  0.337173\n",
      "5  0.557614  0.829101  3.828330  0.539409\n",
      "6  0.309199  0.638853  0.207903  0.256379\n",
      "7  0.220841  0.418431  1.194810  0.557092\n",
      "8  0.860396  0.773718  0.612167  1.558735\n",
      "9  0.693528  0.937910  0.380254  1.844233\n",
      "\n",
      "转array\n",
      "[[ 0.92036251 -1.13609936  0.03927205 -0.05640389]\n",
      " [-1.04245094  0.48629133  0.46659034  1.09751321]\n",
      " [ 0.86383677 -1.10779084  0.08475854  0.47875328]\n",
      " [ 0.89728449  0.55808808 -0.17915434 -0.46166165]\n",
      " [ 0.88645954 -1.28212636 -0.15225532 -1.08715915]\n",
      " [-0.58408882 -0.1874133   1.3424287  -0.6172814 ]\n",
      " [-1.17377124 -0.44808058 -1.57068371 -1.36109818]\n",
      " [-1.51031233 -0.87124421  0.17798714 -0.58502521]\n",
      " [-0.15036216 -0.25654831 -0.49075094  0.44387476]\n",
      " [-0.36596423 -0.06410091 -0.96691672  0.61206368]]\n"
     ],
     "output_type": "stream"
    }
   ],
   "source": [
    "df = pd.DataFrame(np.random.randn(10, 4), columns=[\"A\", \"B\", \"C\", \"D\"])\n",
    "print(df)\n",
    "\n",
    "print(\"\\n指数计算\")\n",
    "print(np.exp(df))\n",
    "\n",
    "print(\"\\n转array\")\n",
    "print(np.asarray(df))"
   ],
   "metadata": {
    "collapsed": false,
    "pycharm": {
     "name": "#%%\n",
     "is_executing": false
    }
   }
  }
 ],
 "metadata": {
  "kernelspec": {
   "display_name": "Python 3",
   "language": "python",
   "name": "python3"
  },
  "language_info": {
   "codemirror_mode": {
    "name": "ipython",
    "version": 2
   },
   "file_extension": ".py",
   "mimetype": "text/x-python",
   "name": "python",
   "nbconvert_exporter": "python",
   "pygments_lexer": "ipython2",
   "version": "2.7.6"
  },
  "pycharm": {
   "stem_cell": {
    "cell_type": "raw",
    "source": [],
    "metadata": {
     "collapsed": false
    }
   }
  }
 },
 "nbformat": 4,
 "nbformat_minor": 0
}