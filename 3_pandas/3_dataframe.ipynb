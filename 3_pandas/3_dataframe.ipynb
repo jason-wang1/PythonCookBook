{
 "cells": [
  {
   "cell_type": "markdown",
   "metadata": {
    "collapsed": true,
    "pycharm": {
     "name": "#%% md\n"
    }
   },
   "source": [
    "# Pandas DataFrame\n",
    "参考资料：\n",
    "[pandas 官方文档](https://pandas.pydata.org/docs/user_guide/dsintro.html#dataframe)"
   ]
  },
  {
   "cell_type": "markdown",
   "source": [
    "## DataFrame 是什么\n",
    "- 是二维的、带标签的数据结构\n",
    "- 可以看作 Sql 表，或者是 Series 对象的的字典（一个序列对象就是一列）\n",
    "- 拥有行索引 index\n",
    "- 拥有列索引 columns\n",
    "- 如果加了索引或列名，不匹配的数据将会被丢弃掉\n",
    "- 对于 Python version >= 3.6 and pandas >= 0.23，DataFrame 列的顺序是插入这些列的顺序；否则为列名的字典顺序"
   ],
   "metadata": {
    "collapsed": false
   }
  },
  {
   "cell_type": "markdown",
   "source": [
    "## 1. 创建DataFrame"
   ],
   "metadata": {
    "collapsed": false
   }
  },
  {
   "cell_type": "markdown",
   "source": [
    "### 通过 Series 的字典创建"
   ],
   "metadata": {
    "collapsed": false
   }
  },
  {
   "cell_type": "code",
   "execution_count": 6,
   "outputs": [
    {
     "name": "stdout",
     "text": [
      "   one  two\n",
      "a  1.0  1.0\n",
      "b  2.0  2.0\n",
      "c  3.0  3.0\n",
      "d  NaN  4.0\n",
      "\n",
      "\n",
      "   one  two\n",
      "d  NaN  4.0\n",
      "b  2.0  2.0\n",
      "a  1.0  1.0\n",
      "\n",
      "\n",
      "   two three\n",
      "d  4.0   NaN\n",
      "b  2.0   NaN\n",
      "a  1.0   NaN\n"
     ],
     "output_type": "stream"
    }
   ],
   "source": [
    "import pandas as pd\n",
    "d = {\n",
    "   \"one\": pd.Series([1.0, 2.0, 3.0], index=[\"a\", \"b\", \"c\"]),\n",
    "   \"two\": pd.Series([1.0, 2.0, 3.0, 4.0], index=[\"a\", \"b\", \"c\", \"d\"]),\n",
    "   }\n",
    "\n",
    "df = pd.DataFrame(d)\n",
    "print(df)\n",
    "print(\"\\n\")\n",
    "\n",
    "df = pd.DataFrame(d, index=[\"d\", \"b\", \"a\"])\n",
    "print(df)\n",
    "print(\"\\n\")\n",
    "\n",
    "df = pd.DataFrame(d, index=[\"d\", \"b\", \"a\"], columns=[\"two\", \"three\"])\n",
    "print(df)\n"
   ],
   "metadata": {
    "collapsed": false,
    "pycharm": {
     "name": "#%%\n",
     "is_executing": false
    }
   }
  },
  {
   "cell_type": "markdown",
   "source": [
    "### 通过 ndarrays / lists 的字典创建\n",
    "注意：ndarrays / lists 的长度必须相同"
   ],
   "metadata": {
    "collapsed": false
   }
  },
  {
   "cell_type": "code",
   "execution_count": 9,
   "outputs": [
    {
     "name": "stdout",
     "text": [
      "   one  two\n",
      "0  1.0  4.0\n",
      "1  2.0  3.0\n",
      "2  3.0  2.0\n",
      "3  4.0  1.0\n",
      "\n",
      "\n",
      "   one  two\n",
      "a  1.0  4.0\n",
      "b  2.0  3.0\n",
      "c  3.0  2.0\n",
      "d  4.0  1.0\n"
     ],
     "output_type": "stream"
    }
   ],
   "source": [
    "d = {\"one\": [1.0, 2.0, 3.0, 4.0], \"two\": [4.0, 3.0, 2.0, 1.0]}\n",
    "df = pd.DataFrame(d)\n",
    "print(df)\n",
    "print(\"\\n\")\n",
    "\n",
    "df = pd.DataFrame(d, index=[\"a\", \"b\", \"c\", \"d\"])\n",
    "print(df)"
   ],
   "metadata": {
    "collapsed": false,
    "pycharm": {
     "name": "#%%\n",
     "is_executing": false
    }
   }
  },
  {
   "cell_type": "markdown",
   "source": [
    "### 通过 ndarrays 的创建\n",
    "注意：ndarrays 的每一个元素是一个元组，是 DataFrame 的一行记录"
   ],
   "metadata": {
    "collapsed": false
   }
  },
  {
   "cell_type": "code",
   "execution_count": 14,
   "outputs": [
    {
     "name": "stdout",
     "text": [
      "[(0, 0., b'') (0, 0., b'')]\n",
      "[(1, 2., b'Hello') (2, 3., b'World')]\n",
      "   A    B         C\n",
      "0  1  2.0  b'Hello'\n",
      "1  2  3.0  b'World'\n",
      "        A    B         C\n",
      "first   1  2.0  b'Hello'\n",
      "second  2  3.0  b'World'\n",
      "          C  A    B\n",
      "0  b'Hello'  1  2.0\n",
      "1  b'World'  2  3.0\n"
     ],
     "output_type": "stream"
    }
   ],
   "source": [
    "import numpy as np\n",
    "\n",
    "data = np.zeros((2,), dtype=[(\"A\", \"i4\"), (\"B\", \"f4\"), (\"C\", \"a10\")])\n",
    "print(data)\n",
    "\n",
    "data[:] = [(1, 2.0, \"Hello\"), (2, 3.0, \"World\")]\n",
    "print(data)\n",
    "\n",
    "df = pd.DataFrame(data)\n",
    "print(df)\n",
    "\n",
    "df = pd.DataFrame(data, index=[\"first\", \"second\"])\n",
    "print(df)\n",
    "\n",
    "df = pd.DataFrame(data, columns=[\"C\", \"A\", \"B\"])\n",
    "print(df)"
   ],
   "metadata": {
    "collapsed": false,
    "pycharm": {
     "name": "#%%\n",
     "is_executing": false
    }
   }
  },
  {
   "cell_type": "markdown",
   "source": [
    "## 2. 数据规整\n",
    "\n",
    "在[Tidy Data](https://www.jstatsoft.org/article/view/v059i10)的论文中，为了更高效地分析数据，提出了“规整”的数据结构定义：\n",
    "- 每个变量是一列\n",
    "- 每次观测结果是一行\n",
    "- 不同的观测类型存放在单独的表中"
   ],
   "metadata": {
    "collapsed": false,
    "pycharm": {
     "name": "#%% md\n"
    }
   }
  },
  {
   "cell_type": "markdown",
   "source": [
    "案例：下表展示了歌曲从进入Billboard Top 100 到接下来的75周内歌曲的每周排名。\n",
    "- 周数（x1st.week，…）是列标题\n",
    "- 如果一首歌曲进入前100名的时间少于75周，则其余列将填充缺失值。"
   ],
   "metadata": {
    "collapsed": false,
    "pycharm": {
     "name": "#%% md\n"
    }
   }
  },
  {
   "cell_type": "code",
   "execution_count": 2,
   "outputs": [
    {
     "data": {
      "text/plain": "   year          artist                    track  time date.entered  wk1  \\\n0  2000           2 Pac  Baby Don't Cry (Keep...  4:22   2000-02-26   87   \n1  2000         2Ge+her  The Hardest Part Of ...  3:15   2000-09-02   91   \n2  2000    3 Doors Down               Kryptonite  3:53   2000-04-08   81   \n3  2000    3 Doors Down                    Loser  4:24   2000-10-21   76   \n4  2000        504 Boyz            Wobble Wobble  3:35   2000-04-15   57   \n5  2000            98^0  Give Me Just One Nig...  3:24   2000-08-19   51   \n6  2000         A*Teens            Dancing Queen  3:44   2000-07-08   97   \n7  2000         Aaliyah            I Don't Wanna  4:15   2000-01-29   84   \n8  2000         Aaliyah                Try Again  4:03   2000-03-18   59   \n9  2000  Adams, Yolanda            Open My Heart  5:30   2000-08-26   76   \n\n    wk2   wk3   wk4    wk5  ...  wk67  wk68  wk69  wk70  wk71  wk72  wk73  \\\n0  82.0  72.0  77.0   87.0  ...   NaN   NaN   NaN   NaN   NaN   NaN   NaN   \n1  87.0  92.0   NaN    NaN  ...   NaN   NaN   NaN   NaN   NaN   NaN   NaN   \n2  70.0  68.0  67.0   66.0  ...   NaN   NaN   NaN   NaN   NaN   NaN   NaN   \n3  76.0  72.0  69.0   67.0  ...   NaN   NaN   NaN   NaN   NaN   NaN   NaN   \n4  34.0  25.0  17.0   17.0  ...   NaN   NaN   NaN   NaN   NaN   NaN   NaN   \n5  39.0  34.0  26.0   26.0  ...   NaN   NaN   NaN   NaN   NaN   NaN   NaN   \n6  97.0  96.0  95.0  100.0  ...   NaN   NaN   NaN   NaN   NaN   NaN   NaN   \n7  62.0  51.0  41.0   38.0  ...   NaN   NaN   NaN   NaN   NaN   NaN   NaN   \n8  53.0  38.0  28.0   21.0  ...   NaN   NaN   NaN   NaN   NaN   NaN   NaN   \n9  76.0  74.0  69.0   68.0  ...   NaN   NaN   NaN   NaN   NaN   NaN   NaN   \n\n   wk74  wk75  wk76  \n0   NaN   NaN   NaN  \n1   NaN   NaN   NaN  \n2   NaN   NaN   NaN  \n3   NaN   NaN   NaN  \n4   NaN   NaN   NaN  \n5   NaN   NaN   NaN  \n6   NaN   NaN   NaN  \n7   NaN   NaN   NaN  \n8   NaN   NaN   NaN  \n9   NaN   NaN   NaN  \n\n[10 rows x 81 columns]",
      "text/html": "<div>\n<style scoped>\n    .dataframe tbody tr th:only-of-type {\n        vertical-align: middle;\n    }\n\n    .dataframe tbody tr th {\n        vertical-align: top;\n    }\n\n    .dataframe thead th {\n        text-align: right;\n    }\n</style>\n<table border=\"1\" class=\"dataframe\">\n  <thead>\n    <tr style=\"text-align: right;\">\n      <th></th>\n      <th>year</th>\n      <th>artist</th>\n      <th>track</th>\n      <th>time</th>\n      <th>date.entered</th>\n      <th>wk1</th>\n      <th>wk2</th>\n      <th>wk3</th>\n      <th>wk4</th>\n      <th>wk5</th>\n      <th>...</th>\n      <th>wk67</th>\n      <th>wk68</th>\n      <th>wk69</th>\n      <th>wk70</th>\n      <th>wk71</th>\n      <th>wk72</th>\n      <th>wk73</th>\n      <th>wk74</th>\n      <th>wk75</th>\n      <th>wk76</th>\n    </tr>\n  </thead>\n  <tbody>\n    <tr>\n      <th>0</th>\n      <td>2000</td>\n      <td>2 Pac</td>\n      <td>Baby Don't Cry (Keep...</td>\n      <td>4:22</td>\n      <td>2000-02-26</td>\n      <td>87</td>\n      <td>82.0</td>\n      <td>72.0</td>\n      <td>77.0</td>\n      <td>87.0</td>\n      <td>...</td>\n      <td>NaN</td>\n      <td>NaN</td>\n      <td>NaN</td>\n      <td>NaN</td>\n      <td>NaN</td>\n      <td>NaN</td>\n      <td>NaN</td>\n      <td>NaN</td>\n      <td>NaN</td>\n      <td>NaN</td>\n    </tr>\n    <tr>\n      <th>1</th>\n      <td>2000</td>\n      <td>2Ge+her</td>\n      <td>The Hardest Part Of ...</td>\n      <td>3:15</td>\n      <td>2000-09-02</td>\n      <td>91</td>\n      <td>87.0</td>\n      <td>92.0</td>\n      <td>NaN</td>\n      <td>NaN</td>\n      <td>...</td>\n      <td>NaN</td>\n      <td>NaN</td>\n      <td>NaN</td>\n      <td>NaN</td>\n      <td>NaN</td>\n      <td>NaN</td>\n      <td>NaN</td>\n      <td>NaN</td>\n      <td>NaN</td>\n      <td>NaN</td>\n    </tr>\n    <tr>\n      <th>2</th>\n      <td>2000</td>\n      <td>3 Doors Down</td>\n      <td>Kryptonite</td>\n      <td>3:53</td>\n      <td>2000-04-08</td>\n      <td>81</td>\n      <td>70.0</td>\n      <td>68.0</td>\n      <td>67.0</td>\n      <td>66.0</td>\n      <td>...</td>\n      <td>NaN</td>\n      <td>NaN</td>\n      <td>NaN</td>\n      <td>NaN</td>\n      <td>NaN</td>\n      <td>NaN</td>\n      <td>NaN</td>\n      <td>NaN</td>\n      <td>NaN</td>\n      <td>NaN</td>\n    </tr>\n    <tr>\n      <th>3</th>\n      <td>2000</td>\n      <td>3 Doors Down</td>\n      <td>Loser</td>\n      <td>4:24</td>\n      <td>2000-10-21</td>\n      <td>76</td>\n      <td>76.0</td>\n      <td>72.0</td>\n      <td>69.0</td>\n      <td>67.0</td>\n      <td>...</td>\n      <td>NaN</td>\n      <td>NaN</td>\n      <td>NaN</td>\n      <td>NaN</td>\n      <td>NaN</td>\n      <td>NaN</td>\n      <td>NaN</td>\n      <td>NaN</td>\n      <td>NaN</td>\n      <td>NaN</td>\n    </tr>\n    <tr>\n      <th>4</th>\n      <td>2000</td>\n      <td>504 Boyz</td>\n      <td>Wobble Wobble</td>\n      <td>3:35</td>\n      <td>2000-04-15</td>\n      <td>57</td>\n      <td>34.0</td>\n      <td>25.0</td>\n      <td>17.0</td>\n      <td>17.0</td>\n      <td>...</td>\n      <td>NaN</td>\n      <td>NaN</td>\n      <td>NaN</td>\n      <td>NaN</td>\n      <td>NaN</td>\n      <td>NaN</td>\n      <td>NaN</td>\n      <td>NaN</td>\n      <td>NaN</td>\n      <td>NaN</td>\n    </tr>\n    <tr>\n      <th>5</th>\n      <td>2000</td>\n      <td>98^0</td>\n      <td>Give Me Just One Nig...</td>\n      <td>3:24</td>\n      <td>2000-08-19</td>\n      <td>51</td>\n      <td>39.0</td>\n      <td>34.0</td>\n      <td>26.0</td>\n      <td>26.0</td>\n      <td>...</td>\n      <td>NaN</td>\n      <td>NaN</td>\n      <td>NaN</td>\n      <td>NaN</td>\n      <td>NaN</td>\n      <td>NaN</td>\n      <td>NaN</td>\n      <td>NaN</td>\n      <td>NaN</td>\n      <td>NaN</td>\n    </tr>\n    <tr>\n      <th>6</th>\n      <td>2000</td>\n      <td>A*Teens</td>\n      <td>Dancing Queen</td>\n      <td>3:44</td>\n      <td>2000-07-08</td>\n      <td>97</td>\n      <td>97.0</td>\n      <td>96.0</td>\n      <td>95.0</td>\n      <td>100.0</td>\n      <td>...</td>\n      <td>NaN</td>\n      <td>NaN</td>\n      <td>NaN</td>\n      <td>NaN</td>\n      <td>NaN</td>\n      <td>NaN</td>\n      <td>NaN</td>\n      <td>NaN</td>\n      <td>NaN</td>\n      <td>NaN</td>\n    </tr>\n    <tr>\n      <th>7</th>\n      <td>2000</td>\n      <td>Aaliyah</td>\n      <td>I Don't Wanna</td>\n      <td>4:15</td>\n      <td>2000-01-29</td>\n      <td>84</td>\n      <td>62.0</td>\n      <td>51.0</td>\n      <td>41.0</td>\n      <td>38.0</td>\n      <td>...</td>\n      <td>NaN</td>\n      <td>NaN</td>\n      <td>NaN</td>\n      <td>NaN</td>\n      <td>NaN</td>\n      <td>NaN</td>\n      <td>NaN</td>\n      <td>NaN</td>\n      <td>NaN</td>\n      <td>NaN</td>\n    </tr>\n    <tr>\n      <th>8</th>\n      <td>2000</td>\n      <td>Aaliyah</td>\n      <td>Try Again</td>\n      <td>4:03</td>\n      <td>2000-03-18</td>\n      <td>59</td>\n      <td>53.0</td>\n      <td>38.0</td>\n      <td>28.0</td>\n      <td>21.0</td>\n      <td>...</td>\n      <td>NaN</td>\n      <td>NaN</td>\n      <td>NaN</td>\n      <td>NaN</td>\n      <td>NaN</td>\n      <td>NaN</td>\n      <td>NaN</td>\n      <td>NaN</td>\n      <td>NaN</td>\n      <td>NaN</td>\n    </tr>\n    <tr>\n      <th>9</th>\n      <td>2000</td>\n      <td>Adams, Yolanda</td>\n      <td>Open My Heart</td>\n      <td>5:30</td>\n      <td>2000-08-26</td>\n      <td>76</td>\n      <td>76.0</td>\n      <td>74.0</td>\n      <td>69.0</td>\n      <td>68.0</td>\n      <td>...</td>\n      <td>NaN</td>\n      <td>NaN</td>\n      <td>NaN</td>\n      <td>NaN</td>\n      <td>NaN</td>\n      <td>NaN</td>\n      <td>NaN</td>\n      <td>NaN</td>\n      <td>NaN</td>\n      <td>NaN</td>\n    </tr>\n  </tbody>\n</table>\n<p>10 rows × 81 columns</p>\n</div>"
     },
     "metadata": {},
     "output_type": "execute_result",
     "execution_count": 2
    }
   ],
   "source": [
    "import pandas as pd\n",
    "df = pd.read_csv(\"../data/billboard.csv\", encoding=\"mac_latin2\")\n",
    "df.head(10)"
   ],
   "metadata": {
    "collapsed": false,
    "pycharm": {
     "name": "#%%\n",
     "is_executing": false
    }
   }
  },
  {
   "cell_type": "markdown",
   "source": [
    "同样，以上数据集中的\"wk1\"、\"wk2\"等是\"星期\"变量等具体值，需要对它们进行`melt`，其参数为：\n",
    "\n",
    "- frame: 需要处理的dataframe；\n",
    "- id_vars: 保持原样的数据列；\n",
    "- value_vars: 需要被转换成变量值的数据列；\n",
    "- var_name: 转换后变量的列名；\n",
    "- value_name: 数值变量的列名。"
   ],
   "metadata": {
    "collapsed": false,
    "pycharm": {
     "name": "#%% md\n"
    }
   }
  },
  {
   "cell_type": "code",
   "execution_count": 3,
   "outputs": [
    {
     "data": {
      "text/plain": "      year artist                    track  time date.entered  week  rank\n0     2000  2 Pac  Baby Don't Cry (Keep...  4:22   2000-02-26   wk1  87.0\n317   2000  2 Pac  Baby Don't Cry (Keep...  4:22   2000-02-26   wk2  82.0\n634   2000  2 Pac  Baby Don't Cry (Keep...  4:22   2000-02-26   wk3  72.0\n951   2000  2 Pac  Baby Don't Cry (Keep...  4:22   2000-02-26   wk4  77.0\n1268  2000  2 Pac  Baby Don't Cry (Keep...  4:22   2000-02-26   wk5  87.0\n1585  2000  2 Pac  Baby Don't Cry (Keep...  4:22   2000-02-26   wk6  94.0\n1902  2000  2 Pac  Baby Don't Cry (Keep...  4:22   2000-02-26   wk7  99.0\n2219  2000  2 Pac  Baby Don't Cry (Keep...  4:22   2000-02-26   wk8   NaN\n2536  2000  2 Pac  Baby Don't Cry (Keep...  4:22   2000-02-26   wk9   NaN\n2853  2000  2 Pac  Baby Don't Cry (Keep...  4:22   2000-02-26  wk10   NaN",
      "text/html": "<div>\n<style scoped>\n    .dataframe tbody tr th:only-of-type {\n        vertical-align: middle;\n    }\n\n    .dataframe tbody tr th {\n        vertical-align: top;\n    }\n\n    .dataframe thead th {\n        text-align: right;\n    }\n</style>\n<table border=\"1\" class=\"dataframe\">\n  <thead>\n    <tr style=\"text-align: right;\">\n      <th></th>\n      <th>year</th>\n      <th>artist</th>\n      <th>track</th>\n      <th>time</th>\n      <th>date.entered</th>\n      <th>week</th>\n      <th>rank</th>\n    </tr>\n  </thead>\n  <tbody>\n    <tr>\n      <th>0</th>\n      <td>2000</td>\n      <td>2 Pac</td>\n      <td>Baby Don't Cry (Keep...</td>\n      <td>4:22</td>\n      <td>2000-02-26</td>\n      <td>wk1</td>\n      <td>87.0</td>\n    </tr>\n    <tr>\n      <th>317</th>\n      <td>2000</td>\n      <td>2 Pac</td>\n      <td>Baby Don't Cry (Keep...</td>\n      <td>4:22</td>\n      <td>2000-02-26</td>\n      <td>wk2</td>\n      <td>82.0</td>\n    </tr>\n    <tr>\n      <th>634</th>\n      <td>2000</td>\n      <td>2 Pac</td>\n      <td>Baby Don't Cry (Keep...</td>\n      <td>4:22</td>\n      <td>2000-02-26</td>\n      <td>wk3</td>\n      <td>72.0</td>\n    </tr>\n    <tr>\n      <th>951</th>\n      <td>2000</td>\n      <td>2 Pac</td>\n      <td>Baby Don't Cry (Keep...</td>\n      <td>4:22</td>\n      <td>2000-02-26</td>\n      <td>wk4</td>\n      <td>77.0</td>\n    </tr>\n    <tr>\n      <th>1268</th>\n      <td>2000</td>\n      <td>2 Pac</td>\n      <td>Baby Don't Cry (Keep...</td>\n      <td>4:22</td>\n      <td>2000-02-26</td>\n      <td>wk5</td>\n      <td>87.0</td>\n    </tr>\n    <tr>\n      <th>1585</th>\n      <td>2000</td>\n      <td>2 Pac</td>\n      <td>Baby Don't Cry (Keep...</td>\n      <td>4:22</td>\n      <td>2000-02-26</td>\n      <td>wk6</td>\n      <td>94.0</td>\n    </tr>\n    <tr>\n      <th>1902</th>\n      <td>2000</td>\n      <td>2 Pac</td>\n      <td>Baby Don't Cry (Keep...</td>\n      <td>4:22</td>\n      <td>2000-02-26</td>\n      <td>wk7</td>\n      <td>99.0</td>\n    </tr>\n    <tr>\n      <th>2219</th>\n      <td>2000</td>\n      <td>2 Pac</td>\n      <td>Baby Don't Cry (Keep...</td>\n      <td>4:22</td>\n      <td>2000-02-26</td>\n      <td>wk8</td>\n      <td>NaN</td>\n    </tr>\n    <tr>\n      <th>2536</th>\n      <td>2000</td>\n      <td>2 Pac</td>\n      <td>Baby Don't Cry (Keep...</td>\n      <td>4:22</td>\n      <td>2000-02-26</td>\n      <td>wk9</td>\n      <td>NaN</td>\n    </tr>\n    <tr>\n      <th>2853</th>\n      <td>2000</td>\n      <td>2 Pac</td>\n      <td>Baby Don't Cry (Keep...</td>\n      <td>4:22</td>\n      <td>2000-02-26</td>\n      <td>wk10</td>\n      <td>NaN</td>\n    </tr>\n  </tbody>\n</table>\n</div>"
     },
     "metadata": {},
     "output_type": "execute_result",
     "execution_count": 3
    }
   ],
   "source": [
    "id_vars = [\"year\",\n",
    "           \"artist\",\n",
    "           \"track\",\n",
    "           \"time\",\n",
    "           \"date.entered\"]\n",
    "\n",
    "melted_df = pd.melt(frame=df,\n",
    "             id_vars=id_vars, \n",
    "             var_name=\"week\", \n",
    "             value_name=\"rank\")\n",
    "\n",
    "melted_df = melted_df.sort_values(by=[\"year\", \"artist\", \"track\", \"time\", \"date.entered\"])\n",
    "melted_df.head(10)"
   ],
   "metadata": {
    "collapsed": false,
    "pycharm": {
     "name": "#%%\n",
     "is_executing": false
    }
   }
  },
  {
   "cell_type": "markdown",
   "source": [
    "以上`melt`之后对数据存在一个问题：歌曲名称、作者、发表年份存在重复，因此还不算规整。\n",
    "1. 首先创建一个songs表，其中包含每首歌曲的详细信息\n",
    "2. 创建一个ranks表只包含song_id，date以及rank"
   ],
   "metadata": {
    "collapsed": false,
    "pycharm": {
     "name": "#%% md\n"
    }
   }
  },
  {
   "cell_type": "code",
   "execution_count": 4,
   "outputs": [
    {
     "data": {
      "text/plain": "   year          artist                    track  time date.entered  song_id\n0  2000           2 Pac  Baby Don't Cry (Keep...  4:22   2000-02-26        0\n1  2000         2Ge+her  The Hardest Part Of ...  3:15   2000-09-02        1\n2  2000    3 Doors Down               Kryptonite  3:53   2000-04-08        2\n3  2000    3 Doors Down                    Loser  4:24   2000-10-21        3\n4  2000        504 Boyz            Wobble Wobble  3:35   2000-04-15        4\n5  2000            98^0  Give Me Just One Nig...  3:24   2000-08-19        5\n6  2000         A*Teens            Dancing Queen  3:44   2000-07-08        6\n7  2000         Aaliyah            I Don't Wanna  4:15   2000-01-29        7\n8  2000         Aaliyah                Try Again  4:03   2000-03-18        8\n9  2000  Adams, Yolanda            Open My Heart  5:30   2000-08-26        9",
      "text/html": "<div>\n<style scoped>\n    .dataframe tbody tr th:only-of-type {\n        vertical-align: middle;\n    }\n\n    .dataframe tbody tr th {\n        vertical-align: top;\n    }\n\n    .dataframe thead th {\n        text-align: right;\n    }\n</style>\n<table border=\"1\" class=\"dataframe\">\n  <thead>\n    <tr style=\"text-align: right;\">\n      <th></th>\n      <th>year</th>\n      <th>artist</th>\n      <th>track</th>\n      <th>time</th>\n      <th>date.entered</th>\n      <th>song_id</th>\n    </tr>\n  </thead>\n  <tbody>\n    <tr>\n      <th>0</th>\n      <td>2000</td>\n      <td>2 Pac</td>\n      <td>Baby Don't Cry (Keep...</td>\n      <td>4:22</td>\n      <td>2000-02-26</td>\n      <td>0</td>\n    </tr>\n    <tr>\n      <th>1</th>\n      <td>2000</td>\n      <td>2Ge+her</td>\n      <td>The Hardest Part Of ...</td>\n      <td>3:15</td>\n      <td>2000-09-02</td>\n      <td>1</td>\n    </tr>\n    <tr>\n      <th>2</th>\n      <td>2000</td>\n      <td>3 Doors Down</td>\n      <td>Kryptonite</td>\n      <td>3:53</td>\n      <td>2000-04-08</td>\n      <td>2</td>\n    </tr>\n    <tr>\n      <th>3</th>\n      <td>2000</td>\n      <td>3 Doors Down</td>\n      <td>Loser</td>\n      <td>4:24</td>\n      <td>2000-10-21</td>\n      <td>3</td>\n    </tr>\n    <tr>\n      <th>4</th>\n      <td>2000</td>\n      <td>504 Boyz</td>\n      <td>Wobble Wobble</td>\n      <td>3:35</td>\n      <td>2000-04-15</td>\n      <td>4</td>\n    </tr>\n    <tr>\n      <th>5</th>\n      <td>2000</td>\n      <td>98^0</td>\n      <td>Give Me Just One Nig...</td>\n      <td>3:24</td>\n      <td>2000-08-19</td>\n      <td>5</td>\n    </tr>\n    <tr>\n      <th>6</th>\n      <td>2000</td>\n      <td>A*Teens</td>\n      <td>Dancing Queen</td>\n      <td>3:44</td>\n      <td>2000-07-08</td>\n      <td>6</td>\n    </tr>\n    <tr>\n      <th>7</th>\n      <td>2000</td>\n      <td>Aaliyah</td>\n      <td>I Don't Wanna</td>\n      <td>4:15</td>\n      <td>2000-01-29</td>\n      <td>7</td>\n    </tr>\n    <tr>\n      <th>8</th>\n      <td>2000</td>\n      <td>Aaliyah</td>\n      <td>Try Again</td>\n      <td>4:03</td>\n      <td>2000-03-18</td>\n      <td>8</td>\n    </tr>\n    <tr>\n      <th>9</th>\n      <td>2000</td>\n      <td>Adams, Yolanda</td>\n      <td>Open My Heart</td>\n      <td>5:30</td>\n      <td>2000-08-26</td>\n      <td>9</td>\n    </tr>\n  </tbody>\n</table>\n</div>"
     },
     "metadata": {},
     "output_type": "execute_result",
     "execution_count": 4
    }
   ],
   "source": [
    "songs_cols = [\"year\", \"artist\", \"track\", \"time\", \"date.entered\"]\n",
    "songs = melted_df[songs_cols].drop_duplicates()\n",
    "songs = songs.reset_index(drop=True)\n",
    "songs[\"song_id\"] = songs.index\n",
    "songs.head(10)"
   ],
   "metadata": {
    "collapsed": false,
    "pycharm": {
     "name": "#%%\n",
     "is_executing": false
    }
   }
  },
  {
   "cell_type": "code",
   "execution_count": 7,
   "outputs": [
    {
     "data": {
      "text/plain": "   song_id  week  rank\n0        0   wk1  87.0\n1        0   wk2  82.0\n2        0   wk3  72.0\n3        0   wk4  77.0\n4        0   wk5  87.0\n5        0   wk6  94.0\n6        0   wk7  99.0\n7        0   wk8   NaN\n8        0   wk9   NaN\n9        0  wk10   NaN",
      "text/html": "<div>\n<style scoped>\n    .dataframe tbody tr th:only-of-type {\n        vertical-align: middle;\n    }\n\n    .dataframe tbody tr th {\n        vertical-align: top;\n    }\n\n    .dataframe thead th {\n        text-align: right;\n    }\n</style>\n<table border=\"1\" class=\"dataframe\">\n  <thead>\n    <tr style=\"text-align: right;\">\n      <th></th>\n      <th>song_id</th>\n      <th>week</th>\n      <th>rank</th>\n    </tr>\n  </thead>\n  <tbody>\n    <tr>\n      <th>0</th>\n      <td>0</td>\n      <td>wk1</td>\n      <td>87.0</td>\n    </tr>\n    <tr>\n      <th>1</th>\n      <td>0</td>\n      <td>wk2</td>\n      <td>82.0</td>\n    </tr>\n    <tr>\n      <th>2</th>\n      <td>0</td>\n      <td>wk3</td>\n      <td>72.0</td>\n    </tr>\n    <tr>\n      <th>3</th>\n      <td>0</td>\n      <td>wk4</td>\n      <td>77.0</td>\n    </tr>\n    <tr>\n      <th>4</th>\n      <td>0</td>\n      <td>wk5</td>\n      <td>87.0</td>\n    </tr>\n    <tr>\n      <th>5</th>\n      <td>0</td>\n      <td>wk6</td>\n      <td>94.0</td>\n    </tr>\n    <tr>\n      <th>6</th>\n      <td>0</td>\n      <td>wk7</td>\n      <td>99.0</td>\n    </tr>\n    <tr>\n      <th>7</th>\n      <td>0</td>\n      <td>wk8</td>\n      <td>NaN</td>\n    </tr>\n    <tr>\n      <th>8</th>\n      <td>0</td>\n      <td>wk9</td>\n      <td>NaN</td>\n    </tr>\n    <tr>\n      <th>9</th>\n      <td>0</td>\n      <td>wk10</td>\n      <td>NaN</td>\n    </tr>\n  </tbody>\n</table>\n</div>"
     },
     "metadata": {},
     "output_type": "execute_result",
     "execution_count": 7
    }
   ],
   "source": [
    "ranks = pd.merge(melted_df, songs, on=[\"year\",\"artist\", \"track\", \"time\", \"date.entered\"])\n",
    "ranks = ranks[[\"song_id\", \"week\",\"rank\"]]\n",
    "ranks.head(10)"
   ],
   "metadata": {
    "collapsed": false,
    "pycharm": {
     "name": "#%%\n",
     "is_executing": false
    }
   }
  },
  {
   "cell_type": "markdown",
   "source": [
    "## 3. Reshape"
   ],
   "metadata": {
    "collapsed": false
   }
  },
  {
   "cell_type": "code",
   "execution_count": 5,
   "outputs": [
    {
     "data": {
      "text/plain": "                  religion  <$10k  $10-20k  $20-30k  $30-40k  $40-50k  \\\n0                 Agnostic     27       34       60       81       76   \n1                  Atheist     12       27       37       52       35   \n2                 Buddhist     27       21       30       34       33   \n3                 Catholic    418      617      732      670      638   \n4     Don‚Äôt know/refused     15       14       15       11       10   \n5         Evangelical Prot    575      869     1064      982      881   \n6                    Hindu      1        9        7        9       11   \n7  Historically Black Prot    228      244      236      238      197   \n8        Jehovah's Witness     20       27       24       24       21   \n9                   Jewish     19       19       25       25       30   \n\n   $50-75k  $75-100k  $100-150k  >150k  Don't know/refused  \n0      137       122        109     84                  96  \n1       70        73         59     74                  76  \n2       58        62         39     53                  54  \n3     1116       949        792    633                1489  \n4       35        21         17     18                 116  \n5     1486       949        723    414                1529  \n6       34        47         48     54                  37  \n7      223       131         81     78                 339  \n8       30        15         11      6                  37  \n9       95        69         87    151                 162  ",
      "text/html": "<div>\n<style scoped>\n    .dataframe tbody tr th:only-of-type {\n        vertical-align: middle;\n    }\n\n    .dataframe tbody tr th {\n        vertical-align: top;\n    }\n\n    .dataframe thead th {\n        text-align: right;\n    }\n</style>\n<table border=\"1\" class=\"dataframe\">\n  <thead>\n    <tr style=\"text-align: right;\">\n      <th></th>\n      <th>religion</th>\n      <th>&lt;$10k</th>\n      <th>$10-20k</th>\n      <th>$20-30k</th>\n      <th>$30-40k</th>\n      <th>$40-50k</th>\n      <th>$50-75k</th>\n      <th>$75-100k</th>\n      <th>$100-150k</th>\n      <th>&gt;150k</th>\n      <th>Don't know/refused</th>\n    </tr>\n  </thead>\n  <tbody>\n    <tr>\n      <th>0</th>\n      <td>Agnostic</td>\n      <td>27</td>\n      <td>34</td>\n      <td>60</td>\n      <td>81</td>\n      <td>76</td>\n      <td>137</td>\n      <td>122</td>\n      <td>109</td>\n      <td>84</td>\n      <td>96</td>\n    </tr>\n    <tr>\n      <th>1</th>\n      <td>Atheist</td>\n      <td>12</td>\n      <td>27</td>\n      <td>37</td>\n      <td>52</td>\n      <td>35</td>\n      <td>70</td>\n      <td>73</td>\n      <td>59</td>\n      <td>74</td>\n      <td>76</td>\n    </tr>\n    <tr>\n      <th>2</th>\n      <td>Buddhist</td>\n      <td>27</td>\n      <td>21</td>\n      <td>30</td>\n      <td>34</td>\n      <td>33</td>\n      <td>58</td>\n      <td>62</td>\n      <td>39</td>\n      <td>53</td>\n      <td>54</td>\n    </tr>\n    <tr>\n      <th>3</th>\n      <td>Catholic</td>\n      <td>418</td>\n      <td>617</td>\n      <td>732</td>\n      <td>670</td>\n      <td>638</td>\n      <td>1116</td>\n      <td>949</td>\n      <td>792</td>\n      <td>633</td>\n      <td>1489</td>\n    </tr>\n    <tr>\n      <th>4</th>\n      <td>Don‚Äôt know/refused</td>\n      <td>15</td>\n      <td>14</td>\n      <td>15</td>\n      <td>11</td>\n      <td>10</td>\n      <td>35</td>\n      <td>21</td>\n      <td>17</td>\n      <td>18</td>\n      <td>116</td>\n    </tr>\n    <tr>\n      <th>5</th>\n      <td>Evangelical Prot</td>\n      <td>575</td>\n      <td>869</td>\n      <td>1064</td>\n      <td>982</td>\n      <td>881</td>\n      <td>1486</td>\n      <td>949</td>\n      <td>723</td>\n      <td>414</td>\n      <td>1529</td>\n    </tr>\n    <tr>\n      <th>6</th>\n      <td>Hindu</td>\n      <td>1</td>\n      <td>9</td>\n      <td>7</td>\n      <td>9</td>\n      <td>11</td>\n      <td>34</td>\n      <td>47</td>\n      <td>48</td>\n      <td>54</td>\n      <td>37</td>\n    </tr>\n    <tr>\n      <th>7</th>\n      <td>Historically Black Prot</td>\n      <td>228</td>\n      <td>244</td>\n      <td>236</td>\n      <td>238</td>\n      <td>197</td>\n      <td>223</td>\n      <td>131</td>\n      <td>81</td>\n      <td>78</td>\n      <td>339</td>\n    </tr>\n    <tr>\n      <th>8</th>\n      <td>Jehovah's Witness</td>\n      <td>20</td>\n      <td>27</td>\n      <td>24</td>\n      <td>24</td>\n      <td>21</td>\n      <td>30</td>\n      <td>15</td>\n      <td>11</td>\n      <td>6</td>\n      <td>37</td>\n    </tr>\n    <tr>\n      <th>9</th>\n      <td>Jewish</td>\n      <td>19</td>\n      <td>19</td>\n      <td>25</td>\n      <td>25</td>\n      <td>30</td>\n      <td>95</td>\n      <td>69</td>\n      <td>87</td>\n      <td>151</td>\n      <td>162</td>\n    </tr>\n  </tbody>\n</table>\n</div>"
     },
     "metadata": {},
     "output_type": "execute_result",
     "execution_count": 5
    }
   ],
   "source": [
    "import pandas as pd\n",
    "df = pd.read_csv(\"../data/pew.csv\", encoding=\"mac_latin2\")\n",
    "df.head(10)"
   ],
   "metadata": {
    "collapsed": false,
    "pycharm": {
     "name": "#%%\n",
     "is_executing": false
    }
   }
  },
  {
   "cell_type": "code",
   "execution_count": 6,
   "outputs": [
    {
     "data": {
      "text/plain": "     religion              income  freq\n18   Agnostic             $10-20k    34\n126  Agnostic           $100-150k   109\n36   Agnostic             $20-30k    60\n54   Agnostic             $30-40k    81\n72   Agnostic             $40-50k    76\n90   Agnostic             $50-75k   137\n108  Agnostic            $75-100k   122\n0    Agnostic               <$10k    27\n144  Agnostic               >150k    84\n162  Agnostic  Don't know/refused    96",
      "text/html": "<div>\n<style scoped>\n    .dataframe tbody tr th:only-of-type {\n        vertical-align: middle;\n    }\n\n    .dataframe tbody tr th {\n        vertical-align: top;\n    }\n\n    .dataframe thead th {\n        text-align: right;\n    }\n</style>\n<table border=\"1\" class=\"dataframe\">\n  <thead>\n    <tr style=\"text-align: right;\">\n      <th></th>\n      <th>religion</th>\n      <th>income</th>\n      <th>freq</th>\n    </tr>\n  </thead>\n  <tbody>\n    <tr>\n      <th>18</th>\n      <td>Agnostic</td>\n      <td>$10-20k</td>\n      <td>34</td>\n    </tr>\n    <tr>\n      <th>126</th>\n      <td>Agnostic</td>\n      <td>$100-150k</td>\n      <td>109</td>\n    </tr>\n    <tr>\n      <th>36</th>\n      <td>Agnostic</td>\n      <td>$20-30k</td>\n      <td>60</td>\n    </tr>\n    <tr>\n      <th>54</th>\n      <td>Agnostic</td>\n      <td>$30-40k</td>\n      <td>81</td>\n    </tr>\n    <tr>\n      <th>72</th>\n      <td>Agnostic</td>\n      <td>$40-50k</td>\n      <td>76</td>\n    </tr>\n    <tr>\n      <th>90</th>\n      <td>Agnostic</td>\n      <td>$50-75k</td>\n      <td>137</td>\n    </tr>\n    <tr>\n      <th>108</th>\n      <td>Agnostic</td>\n      <td>$75-100k</td>\n      <td>122</td>\n    </tr>\n    <tr>\n      <th>0</th>\n      <td>Agnostic</td>\n      <td>&lt;$10k</td>\n      <td>27</td>\n    </tr>\n    <tr>\n      <th>144</th>\n      <td>Agnostic</td>\n      <td>&gt;150k</td>\n      <td>84</td>\n    </tr>\n    <tr>\n      <th>162</th>\n      <td>Agnostic</td>\n      <td>Don't know/refused</td>\n      <td>96</td>\n    </tr>\n  </tbody>\n</table>\n</div>"
     },
     "metadata": {},
     "output_type": "execute_result",
     "execution_count": 6
    }
   ],
   "source": [
    "# melt\n",
    "melted_df = pd.melt(frame=df,\n",
    "             id_vars=[\"religion\"], \n",
    "             var_name=\"income\", \n",
    "             value_name=\"freq\")\n",
    "\n",
    "melted_df = melted_df.sort_values(by=[\"religion\", \"income\"])\n",
    "melted_df.head(10)"
   ],
   "metadata": {
    "collapsed": false,
    "pycharm": {
     "name": "#%%\n",
     "is_executing": false
    }
   }
  },
  {
   "cell_type": "code",
   "execution_count": 7,
   "outputs": [
    {
     "data": {
      "text/plain": "income                   $10-20k  $100-150k  $20-30k  $30-40k  $40-50k  \\\nreligion                                                                 \nAgnostic                      34        109       60       81       76   \nAtheist                       27         59       37       52       35   \nBuddhist                      21         39       30       34       33   \nCatholic                     617        792      732      670      638   \nDon‚Äôt know/refused          14         17       15       11       10   \nEvangelical Prot             869        723     1064      982      881   \nHindu                          9         48        7        9       11   \nHistorically Black Prot      244         81      236      238      197   \nJehovah's Witness             27         11       24       24       21   \nJewish                        19         87       25       25       30   \n\nincome                   $50-75k  $75-100k  <$10k  >150k  Don't know/refused  \nreligion                                                                      \nAgnostic                     137       122     27     84                  96  \nAtheist                       70        73     12     74                  76  \nBuddhist                      58        62     27     53                  54  \nCatholic                    1116       949    418    633                1489  \nDon‚Äôt know/refused          35        21     15     18                 116  \nEvangelical Prot            1486       949    575    414                1529  \nHindu                         34        47      1     54                  37  \nHistorically Black Prot      223       131    228     78                 339  \nJehovah's Witness             30        15     20      6                  37  \nJewish                        95        69     19    151                 162  ",
      "text/html": "<div>\n<style scoped>\n    .dataframe tbody tr th:only-of-type {\n        vertical-align: middle;\n    }\n\n    .dataframe tbody tr th {\n        vertical-align: top;\n    }\n\n    .dataframe thead th {\n        text-align: right;\n    }\n</style>\n<table border=\"1\" class=\"dataframe\">\n  <thead>\n    <tr style=\"text-align: right;\">\n      <th>income</th>\n      <th>$10-20k</th>\n      <th>$100-150k</th>\n      <th>$20-30k</th>\n      <th>$30-40k</th>\n      <th>$40-50k</th>\n      <th>$50-75k</th>\n      <th>$75-100k</th>\n      <th>&lt;$10k</th>\n      <th>&gt;150k</th>\n      <th>Don't know/refused</th>\n    </tr>\n    <tr>\n      <th>religion</th>\n      <th></th>\n      <th></th>\n      <th></th>\n      <th></th>\n      <th></th>\n      <th></th>\n      <th></th>\n      <th></th>\n      <th></th>\n      <th></th>\n    </tr>\n  </thead>\n  <tbody>\n    <tr>\n      <th>Agnostic</th>\n      <td>34</td>\n      <td>109</td>\n      <td>60</td>\n      <td>81</td>\n      <td>76</td>\n      <td>137</td>\n      <td>122</td>\n      <td>27</td>\n      <td>84</td>\n      <td>96</td>\n    </tr>\n    <tr>\n      <th>Atheist</th>\n      <td>27</td>\n      <td>59</td>\n      <td>37</td>\n      <td>52</td>\n      <td>35</td>\n      <td>70</td>\n      <td>73</td>\n      <td>12</td>\n      <td>74</td>\n      <td>76</td>\n    </tr>\n    <tr>\n      <th>Buddhist</th>\n      <td>21</td>\n      <td>39</td>\n      <td>30</td>\n      <td>34</td>\n      <td>33</td>\n      <td>58</td>\n      <td>62</td>\n      <td>27</td>\n      <td>53</td>\n      <td>54</td>\n    </tr>\n    <tr>\n      <th>Catholic</th>\n      <td>617</td>\n      <td>792</td>\n      <td>732</td>\n      <td>670</td>\n      <td>638</td>\n      <td>1116</td>\n      <td>949</td>\n      <td>418</td>\n      <td>633</td>\n      <td>1489</td>\n    </tr>\n    <tr>\n      <th>Don‚Äôt know/refused</th>\n      <td>14</td>\n      <td>17</td>\n      <td>15</td>\n      <td>11</td>\n      <td>10</td>\n      <td>35</td>\n      <td>21</td>\n      <td>15</td>\n      <td>18</td>\n      <td>116</td>\n    </tr>\n    <tr>\n      <th>Evangelical Prot</th>\n      <td>869</td>\n      <td>723</td>\n      <td>1064</td>\n      <td>982</td>\n      <td>881</td>\n      <td>1486</td>\n      <td>949</td>\n      <td>575</td>\n      <td>414</td>\n      <td>1529</td>\n    </tr>\n    <tr>\n      <th>Hindu</th>\n      <td>9</td>\n      <td>48</td>\n      <td>7</td>\n      <td>9</td>\n      <td>11</td>\n      <td>34</td>\n      <td>47</td>\n      <td>1</td>\n      <td>54</td>\n      <td>37</td>\n    </tr>\n    <tr>\n      <th>Historically Black Prot</th>\n      <td>244</td>\n      <td>81</td>\n      <td>236</td>\n      <td>238</td>\n      <td>197</td>\n      <td>223</td>\n      <td>131</td>\n      <td>228</td>\n      <td>78</td>\n      <td>339</td>\n    </tr>\n    <tr>\n      <th>Jehovah's Witness</th>\n      <td>27</td>\n      <td>11</td>\n      <td>24</td>\n      <td>24</td>\n      <td>21</td>\n      <td>30</td>\n      <td>15</td>\n      <td>20</td>\n      <td>6</td>\n      <td>37</td>\n    </tr>\n    <tr>\n      <th>Jewish</th>\n      <td>19</td>\n      <td>87</td>\n      <td>25</td>\n      <td>25</td>\n      <td>30</td>\n      <td>95</td>\n      <td>69</td>\n      <td>19</td>\n      <td>151</td>\n      <td>162</td>\n    </tr>\n  </tbody>\n</table>\n</div>"
     },
     "metadata": {},
     "output_type": "execute_result",
     "execution_count": 7
    }
   ],
   "source": [
    "# pivot\n",
    "df = melted_df.pivot(index='religion', columns='income', values='freq')\n",
    "df.head(10)"
   ],
   "metadata": {
    "collapsed": false,
    "pycharm": {
     "name": "#%%\n",
     "is_executing": false
    }
   }
  },
  {
   "cell_type": "markdown",
   "source": [
    "## 4. 按行/列选择数据\n",
    "| 操作   | 语法   |  输出\n",
    "| ---- | ---- | ---- |\n",
    "|   选择列   |   df[col] 或 df[[cols]]   |   Series 或 DataFrame   |\n",
    "|   通过每行的标签选择行   |   df.loc[label]   |   Series   |\n",
    "|   通过行号选择行   |   df.iloc[loc]   |   Series   |\n",
    "|   按行切分   |   df[5:10]   |   DataFrame   |\n",
    "|   通过布尔向量选择行   |   df[[bool_vec]]   |   DataFrame   |"
   ],
   "metadata": {
    "collapsed": false
   }
  },
  {
   "cell_type": "code",
   "execution_count": null,
   "outputs": [],
   "source": [
    "import pandas as pd\n",
    "d = {\n",
    "   \"one\": pd.Series([1.0, 2.0, 3.0], index=[\"a\", \"b\", \"c\"]),\n",
    "   \"two\": pd.Series([1.0, 2.0, 3.0, 4.0], index=[\"a\", \"b\", \"c\", \"d\"]),\n",
    "   }\n",
    "\n",
    "df = pd.DataFrame(d)\n",
    "\n",
    "print(\"选择列\")\n",
    "print(df[[\"flag\", \"one\"]])\n",
    "\n",
    "print(\"\\n通过每行的标签选择行\")\n",
    "print(df.loc[\"b\"])\n",
    "\n",
    "print(\"\\n通过行号选择行\")\n",
    "print(df.iloc[2])\n",
    "\n",
    "print(\"\\n按行切分\")\n",
    "print(df[1:3])\n",
    "\n",
    "print(\"\\n通过布尔向量选择行\")\n",
    "print(df[[True, False, True, False]])\n"
   ],
   "metadata": {
    "collapsed": false,
    "pycharm": {
     "name": "#%%\n"
    }
   }
  },
  {
   "cell_type": "markdown",
   "source": [
    "## 9. 添加、删除列\n",
    "可以在语义上将 DataFrame 视为 Series 对象的字典。获取、设置和删除列的操作语法与类似dict操作的语法相同\n",
    "案例一："
   ],
   "metadata": {
    "collapsed": false
   }
  },
  {
   "cell_type": "code",
   "execution_count": 1,
   "outputs": [
    {
     "name": "stdout",
     "text": [
      "选择列：\n",
      "a    1.0\n",
      "b    2.0\n",
      "c    3.0\n",
      "d    NaN\n",
      "Name: one, dtype: float64\n",
      "\n",
      "添加列：\n",
      "   one  two  three   flag  foo  one_trunc\n",
      "a  1.0  1.0    1.0  False  bar        1.0\n",
      "b  2.0  2.0    4.0  False  bar        2.0\n",
      "c  3.0  3.0    9.0   True  bar        NaN\n",
      "d  NaN  4.0    NaN  False  bar        NaN\n",
      "\n",
      "删除列：\n",
      "   one   flag  foo  one_trunc\n",
      "a  1.0  False  bar        1.0\n",
      "b  2.0  False  bar        2.0\n",
      "c  3.0   True  bar        NaN\n",
      "d  NaN  False  bar        NaN\n"
     ],
     "output_type": "stream"
    }
   ],
   "source": [
    "import pandas as pd\n",
    "d = {\n",
    "   \"one\": pd.Series([1.0, 2.0, 3.0], index=[\"a\", \"b\", \"c\"]),\n",
    "   \"two\": pd.Series([1.0, 2.0, 3.0, 4.0], index=[\"a\", \"b\", \"c\", \"d\"]),\n",
    "   }\n",
    "\n",
    "df = pd.DataFrame(d)\n",
    "\n",
    "print(\"\\n添加列：\")\n",
    "df[\"three\"] = df[\"one\"] * df[\"two\"]\n",
    "df[\"flag\"] = df[\"one\"] > 2\n",
    "df[\"foo\"] = \"bar\"\n",
    "df[\"one_trunc\"] = df[\"one\"][:2]\n",
    "print(df)\n",
    "\n",
    "print(\"\\n删除列：\")\n",
    "del df[\"two\"]\n",
    "df.pop(\"three\")\n",
    "print(df)"
   ],
   "metadata": {
    "collapsed": false,
    "pycharm": {
     "name": "#%%\n",
     "is_executing": false
    }
   }
  },
  {
   "cell_type": "markdown",
   "source": [
    "案例二："
   ],
   "metadata": {
    "collapsed": false,
    "pycharm": {
     "name": "#%% md\n"
    }
   }
  },
  {
   "cell_type": "code",
   "execution_count": 22,
   "outputs": [
    {
     "name": "stdout",
     "text": [
      "   SepalLength  SepalWidth  PetalLength  PetalWidth  target\n",
      "0          5.1         3.5          1.4         0.2     0.0\n",
      "1          4.9         3.0          1.4         0.2     0.0\n",
      "2          4.7         3.2          1.3         0.2     0.0\n",
      "3          4.6         3.1          1.5         0.2     0.0\n",
      "4          5.0         3.6          1.4         0.2     0.0\n",
      "   SepalLength  SepalWidth  PetalLength  PetalWidth  target  sepal_ratio\n",
      "0          5.1         3.5          1.4         0.2     0.0     0.686275\n",
      "1          4.9         3.0          1.4         0.2     0.0     0.612245\n",
      "2          4.7         3.2          1.3         0.2     0.0     0.680851\n",
      "3          4.6         3.1          1.5         0.2     0.0     0.673913\n",
      "4          5.0         3.6          1.4         0.2     0.0     0.720000\n",
      "   SepalLength  SepalWidth  PetalLength  PetalWidth  target  sepal_ratio\n",
      "0          5.1         3.5          1.4         0.2     0.0     0.686275\n",
      "1          4.9         3.0          1.4         0.2     0.0     0.612245\n",
      "2          4.7         3.2          1.3         0.2     0.0     0.680851\n",
      "3          4.6         3.1          1.5         0.2     0.0     0.673913\n",
      "4          5.0         3.6          1.4         0.2     0.0     0.720000\n"
     ],
     "output_type": "stream"
    }
   ],
   "source": [
    "from sklearn.datasets import load_iris\n",
    "import pandas as pd\n",
    "import numpy as np\n",
    "\n",
    "iris = load_iris()\n",
    "\n",
    "df = pd.DataFrame(data=np.c_[iris['data'], iris['target']], columns=iris['feature_names']+['target'])\n",
    "\n",
    "df.rename(columns={'sepal length (cm)':'SepalLength', \n",
    "                   'sepal width (cm)':'SepalWidth', \n",
    "                   'petal length (cm)':'PetalLength',\n",
    "                   'petal width (cm)':'PetalWidth'}, \n",
    "          inplace=True)\n",
    "print(df.head())\n",
    "\n",
    "# 方式一\n",
    "print(df.assign(sepal_ratio=df[\"SepalWidth\"] / df[\"SepalLength\"]).head())\n",
    "\n",
    "# 方式二\n",
    "print(df.assign(sepal_ratio=lambda x: (x[\"SepalWidth\"] / x[\"SepalLength\"])).head())"
   ],
   "metadata": {
    "collapsed": false,
    "pycharm": {
     "name": "#%%\n",
     "is_executing": false
    }
   }
  },
  {
   "cell_type": "markdown",
   "source": [
    "注意：**assign 总是返回数据的副本，而原始DataFrame保持不变**"
   ],
   "metadata": {
    "collapsed": false,
    "pycharm": {
     "name": "#%% md\n"
    }
   }
  },
  {
   "cell_type": "code",
   "execution_count": 5,
   "outputs": [
    {
     "name": "stdout",
     "text": [
      "   SepalLength  SepalWidth  PetalLength  PetalWidth  target\n",
      "0          5.1         3.5          1.4         0.2     0.0\n",
      "1          4.9         3.0          1.4         0.2     0.0\n",
      "2          4.7         3.2          1.3         0.2     0.0\n",
      "3          4.6         3.1          1.5         0.2     0.0\n",
      "4          5.0         3.6          1.4         0.2     0.0\n"
     ],
     "output_type": "stream"
    }
   ],
   "source": [
    "print(df.head())"
   ],
   "metadata": {
    "collapsed": false,
    "pycharm": {
     "name": "#%%\n",
     "is_executing": false
    }
   }
  },
  {
   "cell_type": "markdown",
   "source": [
    "## 4. 指定某一列为索引"
   ],
   "metadata": {
    "collapsed": false,
    "pycharm": {
     "name": "#%% md\n"
    }
   }
  },
  {
   "cell_type": "code",
   "execution_count": 21,
   "outputs": [
    {
     "name": "stdout",
     "text": [
      "   SepalLength  SepalWidth  PetalLength  PetalWidth  target\n",
      "0          5.1         3.5          1.4         0.2     0.0\n",
      "1          4.9         3.0          1.4         0.2     0.0\n",
      "2          4.7         3.2          1.3         0.2     0.0\n",
      "3          4.6         3.1          1.5         0.2     0.0\n",
      "4          5.0         3.6          1.4         0.2     0.0\n",
      "SepalLength    5.4\n",
      "SepalWidth     3.9\n",
      "PetalLength    1.7\n",
      "PetalWidth     0.4\n",
      "target         0.0\n",
      "Name: 5, dtype: float64\n",
      "<class 'pandas.core.series.Series'>\n",
      "\n",
      "更改索引列\n",
      "Float64Index([0.0, 0.0, 0.0, 0.0, 0.0, 0.0, 0.0, 0.0, 0.0, 0.0,\n",
      "              ...\n",
      "              2.0, 2.0, 2.0, 2.0, 2.0, 2.0, 2.0, 2.0, 2.0, 2.0],\n",
      "             dtype='float64', name='target', length=150)\n",
      "        SepalLength  SepalWidth  PetalLength  PetalWidth\n",
      "target                                                  \n",
      "0.0             5.1         3.5          1.4         0.2\n",
      "0.0             4.9         3.0          1.4         0.2\n",
      "0.0             4.7         3.2          1.3         0.2\n",
      "0.0             4.6         3.1          1.5         0.2\n",
      "0.0             5.0         3.6          1.4         0.2\n",
      "0.0             5.4         3.9          1.7         0.4\n",
      "0.0             4.6         3.4          1.4         0.3\n",
      "0.0             5.0         3.4          1.5         0.2\n",
      "0.0             4.4         2.9          1.4         0.2\n",
      "0.0             4.9         3.1          1.5         0.1\n",
      "0.0             5.4         3.7          1.5         0.2\n",
      "0.0             4.8         3.4          1.6         0.2\n",
      "0.0             4.8         3.0          1.4         0.1\n",
      "0.0             4.3         3.0          1.1         0.1\n",
      "0.0             5.8         4.0          1.2         0.2\n",
      "0.0             5.7         4.4          1.5         0.4\n",
      "0.0             5.4         3.9          1.3         0.4\n",
      "0.0             5.1         3.5          1.4         0.3\n",
      "0.0             5.7         3.8          1.7         0.3\n",
      "0.0             5.1         3.8          1.5         0.3\n",
      "0.0             5.4         3.4          1.7         0.2\n",
      "0.0             5.1         3.7          1.5         0.4\n",
      "0.0             4.6         3.6          1.0         0.2\n",
      "0.0             5.1         3.3          1.7         0.5\n",
      "0.0             4.8         3.4          1.9         0.2\n",
      "0.0             5.0         3.0          1.6         0.2\n",
      "0.0             5.0         3.4          1.6         0.4\n",
      "0.0             5.2         3.5          1.5         0.2\n",
      "0.0             5.2         3.4          1.4         0.2\n",
      "0.0             4.7         3.2          1.6         0.2\n",
      "0.0             4.8         3.1          1.6         0.2\n",
      "0.0             5.4         3.4          1.5         0.4\n",
      "0.0             5.2         4.1          1.5         0.1\n",
      "0.0             5.5         4.2          1.4         0.2\n",
      "0.0             4.9         3.1          1.5         0.2\n",
      "0.0             5.0         3.2          1.2         0.2\n",
      "0.0             5.5         3.5          1.3         0.2\n",
      "0.0             4.9         3.6          1.4         0.1\n",
      "0.0             4.4         3.0          1.3         0.2\n",
      "0.0             5.1         3.4          1.5         0.2\n",
      "0.0             5.0         3.5          1.3         0.3\n",
      "0.0             4.5         2.3          1.3         0.3\n",
      "0.0             4.4         3.2          1.3         0.2\n",
      "0.0             5.0         3.5          1.6         0.6\n",
      "0.0             5.1         3.8          1.9         0.4\n",
      "0.0             4.8         3.0          1.4         0.3\n",
      "0.0             5.1         3.8          1.6         0.2\n",
      "0.0             4.6         3.2          1.4         0.2\n",
      "0.0             5.3         3.7          1.5         0.2\n",
      "0.0             5.0         3.3          1.4         0.2\n",
      "<class 'pandas.core.frame.DataFrame'>\n"
     ],
     "output_type": "stream"
    }
   ],
   "source": [
    "#df.set_index('target', inplace=True)\n",
    "print(df.head())\n",
    "print(df.loc[5])\n",
    "print(type(df.loc[5]))\n",
    "\n",
    "print(\"\\n更改索引列\")\n",
    "df.set_index('target', inplace=True)\n",
    "print(df.index)\n",
    "print(df.loc[0.0].head())\n",
    "print(type(df.loc[0.0]))"
   ],
   "metadata": {
    "collapsed": false,
    "pycharm": {
     "name": "#%%\n",
     "is_executing": false
    }
   }
  },
  {
   "cell_type": "markdown",
   "source": [
    "## 算数运算"
   ],
   "metadata": {
    "collapsed": false
   }
  },
  {
   "cell_type": "markdown",
   "source": [
    "### DataFrame 之间的运算\n",
    "会自动对齐，无法对齐计算的结果为NaN"
   ],
   "metadata": {
    "collapsed": false
   }
  },
  {
   "cell_type": "code",
   "execution_count": 22,
   "outputs": [
    {
     "name": "stdout",
     "text": [
      "          A         B         C   D\n",
      "0 -2.146374  2.816157 -0.233808 NaN\n",
      "1  0.084840 -1.295670  1.572045 NaN\n",
      "2 -1.858359  1.031073  0.012748 NaN\n",
      "3 -1.678174  0.612198 -0.743227 NaN\n",
      "4  0.259344  3.149538  1.528738 NaN\n",
      "5 -0.115171  2.005839 -0.363523 NaN\n",
      "6  1.517893  0.845197 -0.713599 NaN\n",
      "7       NaN       NaN       NaN NaN\n",
      "8       NaN       NaN       NaN NaN\n",
      "9       NaN       NaN       NaN NaN\n"
     ],
     "output_type": "stream"
    }
   ],
   "source": [
    "df = pd.DataFrame(np.random.randn(10, 4), columns=[\"A\", \"B\", \"C\", \"D\"])\n",
    "df2 = pd.DataFrame(np.random.randn(7, 3), columns=[\"A\", \"B\", \"C\"])\n",
    "\n",
    "print(df+df2)"
   ],
   "metadata": {
    "collapsed": false,
    "pycharm": {
     "name": "#%%\n",
     "is_executing": false
    }
   }
  },
  {
   "cell_type": "markdown",
   "source": [
    "### DataFrame 与 Series 之间的运算\n",
    "默认行为是在DataFrame列上对齐Series索引"
   ],
   "metadata": {
    "collapsed": false
   }
  },
  {
   "cell_type": "code",
   "execution_count": 23,
   "outputs": [
    {
     "name": "stdout",
     "text": [
      "          A         B         C         D\n",
      "0  0.000000  0.000000  0.000000  0.000000\n",
      "1 -0.122818 -2.804331  1.023692 -0.179254\n",
      "2 -1.715853 -1.396656  0.064808  0.471526\n",
      "3 -1.406908 -2.379344 -1.177743 -0.453933\n",
      "4 -1.452593 -2.335547  0.730372  0.353130\n",
      "5 -1.978379 -0.226348 -0.501059 -2.212686\n",
      "6  0.200042 -3.092785  0.139767 -0.646990\n",
      "7 -2.454655 -2.581250 -1.433988  1.170834\n",
      "8 -0.740658 -2.097519  0.396698 -0.403309\n",
      "9 -0.606310 -2.403896 -0.539102 -0.991267\n"
     ],
     "output_type": "stream"
    }
   ],
   "source": [
    "print(df - df.iloc[0])"
   ],
   "metadata": {
    "collapsed": false,
    "pycharm": {
     "name": "#%%\n",
     "is_executing": false
    }
   }
  },
  {
   "cell_type": "markdown",
   "source": [
    "### DataFrame 与标量计算"
   ],
   "metadata": {
    "collapsed": false
   }
  },
  {
   "cell_type": "code",
   "execution_count": 25,
   "outputs": [
    {
     "name": "stdout",
     "text": [
      "          A          B         C         D\n",
      "0  6.326814  14.296686  1.620653  3.488176\n",
      "1  5.712723   0.275031  6.739112  2.591908\n",
      "2 -2.252453   7.313406  1.944691  5.845804\n",
      "3 -0.707726   2.399967 -4.268061  1.218508\n",
      "4 -0.936149   2.618950  5.272513  5.253826\n",
      "5 -3.565082  13.164948 -0.884644 -7.575253\n",
      "6  7.327024  -1.167238  2.319490  0.253225\n",
      "7 -5.946459   1.390434 -5.549286  9.342348\n",
      "8  2.623522   3.809092  3.604141  1.471633\n",
      "9  3.295266   2.277205 -1.074859 -1.468161\n",
      "\n",
      "\n",
      "          A          B          C         D\n",
      "0  1.155585   0.406614 -13.180555  3.359818\n",
      "1  1.346721  -2.898603   1.055050  8.447260\n",
      "2 -1.175792   0.941016 -90.401408  1.300118\n",
      "3 -1.846568  12.501045  -0.797695 -6.398021\n",
      "4 -1.702911   8.078202   1.527878  1.536653\n",
      "5 -0.898459   0.447830  -1.733316 -0.522179\n",
      "6  0.938610  -1.578663  15.649947 -2.862418\n",
      "7 -0.629211  -8.202555  -0.662314  0.680981\n",
      "8  8.018957   2.763817   3.116933 -9.463115\n",
      "9  3.860211  18.037212  -1.626091 -1.441686\n",
      "\n",
      "\n",
      "          A          B             C          D\n",
      "0  0.560781  36.582409  3.313334e-05   0.007848\n",
      "1  0.304012   0.014166  8.070639e-01   0.000196\n",
      "2  0.523213   1.275299  1.497267e-08   0.350000\n",
      "3  0.086008   0.000041  2.469750e+00   0.000597\n",
      "4  0.118914   0.000235  1.835040e-01   0.179348\n",
      "5  1.534639  24.862617  1.107870e-01  13.449963\n",
      "6  1.288423   0.161006  1.667050e-05   0.014896\n",
      "7  6.379910   0.000221  5.196888e+00   4.650073\n",
      "8  0.000242   0.017138  1.059474e-02   0.000125\n",
      "9  0.004504   0.000009  1.430279e-01   0.231482\n"
     ],
     "output_type": "stream"
    }
   ],
   "source": [
    "print(df * 5 + 2)\n",
    "print(\"\\n\")\n",
    "\n",
    "print(1 / df)\n",
    "print(\"\\n\")\n",
    "\n",
    "print(df ** 4)"
   ],
   "metadata": {
    "collapsed": false,
    "pycharm": {
     "name": "#%%\n",
     "is_executing": false
    }
   }
  },
  {
   "cell_type": "markdown",
   "source": [
    "### DataFrame 转置"
   ],
   "metadata": {
    "collapsed": false
   }
  },
  {
   "cell_type": "code",
   "execution_count": 26,
   "outputs": [
    {
     "name": "stdout",
     "text": [
      "          0         1         2         3         4\n",
      "A  0.865363  0.742545 -0.850491 -0.541545 -0.587230\n",
      "B  2.459337 -0.344994  1.062681  0.079993  0.123790\n",
      "C -0.075869  0.947822 -0.011062 -1.253612  0.654503\n",
      "D  0.297635  0.118382  0.769161 -0.156298  0.650765\n"
     ],
     "output_type": "stream"
    }
   ],
   "source": [
    "print(df[:5].T)"
   ],
   "metadata": {
    "collapsed": false,
    "pycharm": {
     "name": "#%%\n",
     "is_executing": false
    }
   }
  },
  {
   "cell_type": "markdown",
   "source": [
    "## DataFrame与NumPy函数的互操作"
   ],
   "metadata": {
    "collapsed": false
   }
  },
  {
   "cell_type": "markdown",
   "source": [
    "### 使用NumPy ufuncs（log，exp，sqrt等）对 DataFrame 进行计算"
   ],
   "metadata": {
    "collapsed": false
   }
  },
  {
   "cell_type": "code",
   "execution_count": 33,
   "outputs": [
    {
     "name": "stdout",
     "text": [
      "          A         B         C         D\n",
      "0  0.920363 -1.136099  0.039272 -0.056404\n",
      "1 -1.042451  0.486291  0.466590  1.097513\n",
      "2  0.863837 -1.107791  0.084759  0.478753\n",
      "3  0.897284  0.558088 -0.179154 -0.461662\n",
      "4  0.886460 -1.282126 -0.152255 -1.087159\n",
      "5 -0.584089 -0.187413  1.342429 -0.617281\n",
      "6 -1.173771 -0.448081 -1.570684 -1.361098\n",
      "7 -1.510312 -0.871244  0.177987 -0.585025\n",
      "8 -0.150362 -0.256548 -0.490751  0.443875\n",
      "9 -0.365964 -0.064101 -0.966917  0.612064\n",
      "\n",
      "指数计算\n",
      "          A         B         C         D\n",
      "0  2.510200  0.321069  1.040053  0.945157\n",
      "1  0.352589  1.626274  1.594548  2.996705\n",
      "2  2.372245  0.330288  1.088454  1.614061\n",
      "3  2.452933  1.747329  0.835977  0.630236\n",
      "4  2.426523  0.277447  0.858769  0.337173\n",
      "5  0.557614  0.829101  3.828330  0.539409\n",
      "6  0.309199  0.638853  0.207903  0.256379\n",
      "7  0.220841  0.418431  1.194810  0.557092\n",
      "8  0.860396  0.773718  0.612167  1.558735\n",
      "9  0.693528  0.937910  0.380254  1.844233\n",
      "\n",
      "转array\n",
      "[[ 0.92036251 -1.13609936  0.03927205 -0.05640389]\n",
      " [-1.04245094  0.48629133  0.46659034  1.09751321]\n",
      " [ 0.86383677 -1.10779084  0.08475854  0.47875328]\n",
      " [ 0.89728449  0.55808808 -0.17915434 -0.46166165]\n",
      " [ 0.88645954 -1.28212636 -0.15225532 -1.08715915]\n",
      " [-0.58408882 -0.1874133   1.3424287  -0.6172814 ]\n",
      " [-1.17377124 -0.44808058 -1.57068371 -1.36109818]\n",
      " [-1.51031233 -0.87124421  0.17798714 -0.58502521]\n",
      " [-0.15036216 -0.25654831 -0.49075094  0.44387476]\n",
      " [-0.36596423 -0.06410091 -0.96691672  0.61206368]]\n"
     ],
     "output_type": "stream"
    }
   ],
   "source": [
    "df = pd.DataFrame(np.random.randn(10, 4), columns=[\"A\", \"B\", \"C\", \"D\"])\n",
    "print(df)\n",
    "\n",
    "print(\"\\n指数计算\")\n",
    "print(np.exp(df))\n",
    "\n",
    "print(\"\\n转array\")\n",
    "print(np.asarray(df))"
   ],
   "metadata": {
    "collapsed": false,
    "pycharm": {
     "name": "#%%\n",
     "is_executing": false
    }
   }
  }
 ],
 "metadata": {
  "kernelspec": {
   "display_name": "Python 3",
   "language": "python",
   "name": "python3"
  },
  "language_info": {
   "codemirror_mode": {
    "name": "ipython",
    "version": 2
   },
   "file_extension": ".py",
   "mimetype": "text/x-python",
   "name": "python",
   "nbconvert_exporter": "python",
   "pygments_lexer": "ipython2",
   "version": "2.7.6"
  },
  "pycharm": {
   "stem_cell": {
    "cell_type": "raw",
    "source": [],
    "metadata": {
     "collapsed": false
    }
   }
  }
 },
 "nbformat": 4,
 "nbformat_minor": 0
}