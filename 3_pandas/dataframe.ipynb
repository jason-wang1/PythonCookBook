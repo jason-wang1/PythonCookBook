{
 "cells": [
  {
   "cell_type": "markdown",
   "metadata": {
    "collapsed": true,
    "pycharm": {
     "name": "#%% md\n"
    }
   },
   "source": [
    "# Pandas DataFrame\n",
    "参考资料：\n",
    "[pandas 官方文档](https://pandas.pydata.org/docs/user_guide/dsintro.html#dataframe)"
   ]
  },
  {
   "cell_type": "markdown",
   "source": [
    "## DataFrame 是什么\n",
    "- 是二维的、带标签的数据结构\n",
    "- 可以看作 Sql 表，或者是 Series 对象的的字典（一个序列对象就是一列）\n",
    "- 可选项，可以在每一行加索引（行标签），在每一列加列名（列标签）\n",
    "- 如果加了索引或列名，不匹配的数据将会被丢弃掉\n",
    "- 对于 Python version >= 3.6 and pandas >= 0.23，DataFrame 列的顺序是插入这些列的顺序；否则为列名的字典顺序"
   ],
   "metadata": {
    "collapsed": false
   }
  },
  {
   "cell_type": "markdown",
   "source": [
    "## 怎样创建一个DataFrame"
   ],
   "metadata": {
    "collapsed": false
   }
  },
  {
   "cell_type": "markdown",
   "source": [
    "### 1. 通过 Series 的字典创建"
   ],
   "metadata": {
    "collapsed": false
   }
  },
  {
   "cell_type": "code",
   "execution_count": 6,
   "outputs": [
    {
     "name": "stdout",
     "text": [
      "   one  two\n",
      "a  1.0  1.0\n",
      "b  2.0  2.0\n",
      "c  3.0  3.0\n",
      "d  NaN  4.0\n",
      "\n",
      "\n",
      "   one  two\n",
      "d  NaN  4.0\n",
      "b  2.0  2.0\n",
      "a  1.0  1.0\n",
      "\n",
      "\n",
      "   two three\n",
      "d  4.0   NaN\n",
      "b  2.0   NaN\n",
      "a  1.0   NaN\n"
     ],
     "output_type": "stream"
    }
   ],
   "source": [
    "import pandas as pd\n",
    "d = {\n",
    "   \"one\": pd.Series([1.0, 2.0, 3.0], index=[\"a\", \"b\", \"c\"]),\n",
    "   \"two\": pd.Series([1.0, 2.0, 3.0, 4.0], index=[\"a\", \"b\", \"c\", \"d\"]),\n",
    "   }\n",
    "\n",
    "df = pd.DataFrame(d)\n",
    "print(df)\n",
    "print(\"\\n\")\n",
    "\n",
    "df = pd.DataFrame(d, index=[\"d\", \"b\", \"a\"])\n",
    "print(df)\n",
    "print(\"\\n\")\n",
    "\n",
    "df = pd.DataFrame(d, index=[\"d\", \"b\", \"a\"], columns=[\"two\", \"three\"])\n",
    "print(df)\n"
   ],
   "metadata": {
    "collapsed": false,
    "pycharm": {
     "name": "#%%\n",
     "is_executing": false
    }
   }
  },
  {
   "cell_type": "markdown",
   "source": [
    "### 2. 通过 ndarrays / lists 的字典创建\n",
    "注意：ndarrays / lists 的长度必须相同"
   ],
   "metadata": {
    "collapsed": false
   }
  },
  {
   "cell_type": "code",
   "execution_count": 9,
   "outputs": [
    {
     "name": "stdout",
     "text": [
      "   one  two\n",
      "0  1.0  4.0\n",
      "1  2.0  3.0\n",
      "2  3.0  2.0\n",
      "3  4.0  1.0\n",
      "\n",
      "\n",
      "   one  two\n",
      "a  1.0  4.0\n",
      "b  2.0  3.0\n",
      "c  3.0  2.0\n",
      "d  4.0  1.0\n"
     ],
     "output_type": "stream"
    }
   ],
   "source": [
    "d = {\"one\": [1.0, 2.0, 3.0, 4.0], \"two\": [4.0, 3.0, 2.0, 1.0]}\n",
    "df = pd.DataFrame(d)\n",
    "print(df)\n",
    "print(\"\\n\")\n",
    "\n",
    "df = pd.DataFrame(d, index=[\"a\", \"b\", \"c\", \"d\"])\n",
    "print(df)"
   ],
   "metadata": {
    "collapsed": false,
    "pycharm": {
     "name": "#%%\n",
     "is_executing": false
    }
   }
  },
  {
   "cell_type": "markdown",
   "source": [
    "### 3. 通过 ndarrays 的创建\n",
    "注意：ndarrays 的每一个元素是一个元组，是 DataFrame 的一行记录"
   ],
   "metadata": {
    "collapsed": false
   }
  },
  {
   "cell_type": "code",
   "execution_count": 14,
   "outputs": [
    {
     "name": "stdout",
     "text": [
      "[(0, 0., b'') (0, 0., b'')]\n",
      "[(1, 2., b'Hello') (2, 3., b'World')]\n",
      "   A    B         C\n",
      "0  1  2.0  b'Hello'\n",
      "1  2  3.0  b'World'\n",
      "        A    B         C\n",
      "first   1  2.0  b'Hello'\n",
      "second  2  3.0  b'World'\n",
      "          C  A    B\n",
      "0  b'Hello'  1  2.0\n",
      "1  b'World'  2  3.0\n"
     ],
     "output_type": "stream"
    }
   ],
   "source": [
    "import numpy as np\n",
    "\n",
    "data = np.zeros((2,), dtype=[(\"A\", \"i4\"), (\"B\", \"f4\"), (\"C\", \"a10\")])\n",
    "print(data)\n",
    "\n",
    "data[:] = [(1, 2.0, \"Hello\"), (2, 3.0, \"World\")]\n",
    "print(data)\n",
    "\n",
    "df = pd.DataFrame(data)\n",
    "print(df)\n",
    "\n",
    "df = pd.DataFrame(data, index=[\"first\", \"second\"])\n",
    "print(df)\n",
    "\n",
    "df = pd.DataFrame(data, columns=[\"C\", \"A\", \"B\"])\n",
    "print(df)\n"
   ],
   "metadata": {
    "collapsed": false,
    "pycharm": {
     "name": "#%%\n",
     "is_executing": false
    }
   }
  },
  {
   "cell_type": "markdown",
   "source": [
    "## 列选择、添加、删除\n",
    "可以在语义上将 DataFrame 视为 Series 对象的字典。获取、设置和删除列的操作语法与类似dict操作的语法相同"
   ],
   "metadata": {
    "collapsed": false
   }
  },
  {
   "cell_type": "code",
   "execution_count": 6,
   "outputs": [
    {
     "name": "stdout",
     "text": [
      "选择列：\n",
      "a    1.0\n",
      "b    2.0\n",
      "c    3.0\n",
      "d    NaN\n",
      "Name: one, dtype: float64\n",
      "\n",
      "添加列：\n",
      "   one  two  three   flag  foo  one_trunc\n",
      "a  1.0  1.0    1.0  False  bar        1.0\n",
      "b  2.0  2.0    4.0  False  bar        2.0\n",
      "c  3.0  3.0    9.0   True  bar        NaN\n",
      "d  NaN  4.0    NaN  False  bar        NaN\n",
      "\n",
      "删除列：\n",
      "   one   flag  foo  one_trunc\n",
      "a  1.0  False  bar        1.0\n",
      "b  2.0  False  bar        2.0\n",
      "c  3.0   True  bar        NaN\n",
      "d  NaN  False  bar        NaN\n"
     ],
     "output_type": "stream"
    }
   ],
   "source": [
    "import pandas as pd\n",
    "d = {\n",
    "   \"one\": pd.Series([1.0, 2.0, 3.0], index=[\"a\", \"b\", \"c\"]),\n",
    "   \"two\": pd.Series([1.0, 2.0, 3.0, 4.0], index=[\"a\", \"b\", \"c\", \"d\"]),\n",
    "   }\n",
    "\n",
    "df = pd.DataFrame(d)\n",
    "\n",
    "print(\"选择列：\")\n",
    "print(df[\"one\"])\n",
    "\n",
    "print(\"\\n添加列：\")\n",
    "df[\"three\"] = df[\"one\"] * df[\"two\"]\n",
    "df[\"flag\"] = df[\"one\"] > 2\n",
    "df[\"foo\"] = \"bar\"\n",
    "df[\"one_trunc\"] = df[\"one\"][:2]\n",
    "print(df)\n",
    "\n",
    "print(\"\\n删除列：\")\n",
    "del df[\"two\"]\n",
    "df.pop(\"three\")\n",
    "print(df)"
   ],
   "metadata": {
    "collapsed": false,
    "pycharm": {
     "name": "#%%\n",
     "is_executing": false
    }
   }
  },
  {
   "cell_type": "markdown",
   "source": [
    "## 按 列 / 行 选择数据\n",
    "| 操作   | 语法   |  输出\n",
    "| ---- | ---- | ---- |\n",
    "|   选择列   |   df[col] 或 df[[cols]]   |   Series 或 DataFrame   |\n",
    "|   通过每行的标签选择行   |   df.loc[label]   |   Series   |\n",
    "|   通过行号选择行   |   df.iloc[loc]   |   Series   |\n",
    "|   按行切分   |   df[5:10]   |   DataFrame   |\n",
    "|   通过布尔向量选择行   |   df[[bool_vec]]   |   DataFrame   |"
   ],
   "metadata": {
    "collapsed": false
   }
  },
  {
   "cell_type": "code",
   "execution_count": 17,
   "outputs": [
    {
     "name": "stdout",
     "text": [
      "选择列\n",
      "    flag  one\n",
      "a  False  1.0\n",
      "b  False  2.0\n",
      "c   True  3.0\n",
      "d  False  NaN\n",
      "\n",
      "通过每行的标签选择行\n",
      "one            2.0\n",
      "flag         False\n",
      "foo            bar\n",
      "one_trunc      2.0\n",
      "Name: b, dtype: object\n",
      "\n",
      "通过行号选择行\n",
      "one           3.0\n",
      "flag         True\n",
      "foo           bar\n",
      "one_trunc     NaN\n",
      "Name: c, dtype: object\n",
      "\n",
      "按行切分\n",
      "   one   flag  foo  one_trunc\n",
      "b  2.0  False  bar        2.0\n",
      "c  3.0   True  bar        NaN\n",
      "\n",
      "通过布尔向量选择行\n",
      "   one   flag  foo  one_trunc\n",
      "a  1.0  False  bar        1.0\n",
      "c  3.0   True  bar        NaN\n"
     ],
     "output_type": "stream"
    }
   ],
   "source": [
    "print(\"选择列\")\n",
    "print(df[[\"flag\", \"one\"]])\n",
    "\n",
    "print(\"\\n通过每行的标签选择行\")\n",
    "print(df.loc[\"b\"])\n",
    "\n",
    "print(\"\\n通过行号选择行\")\n",
    "print(df.iloc[2])\n",
    "\n",
    "print(\"\\n按行切分\")\n",
    "print(df[1:3])\n",
    "\n",
    "print(\"\\n通过布尔向量选择行\")\n",
    "print(df[[True, False, True, False]])"
   ],
   "metadata": {
    "collapsed": false,
    "pycharm": {
     "name": "#%%\n",
     "is_executing": false
    }
   }
  },
  {
   "cell_type": "markdown",
   "source": [
    "## 创建新的列 / 覆写现有的列，返回新的 DataFrame"
   ],
   "metadata": {
    "collapsed": false,
    "pycharm": {
     "name": "#%% md\n"
    }
   }
  },
  {
   "cell_type": "code",
   "execution_count": 4,
   "outputs": [
    {
     "name": "stdout",
     "text": [
      "   SepalLength  SepalWidth  PetalLength  PetalWidth  target\n",
      "0          5.1         3.5          1.4         0.2     0.0\n",
      "1          4.9         3.0          1.4         0.2     0.0\n",
      "2          4.7         3.2          1.3         0.2     0.0\n",
      "3          4.6         3.1          1.5         0.2     0.0\n",
      "4          5.0         3.6          1.4         0.2     0.0\n",
      "   SepalLength  SepalWidth  PetalLength  PetalWidth  target  sepal_ratio\n",
      "0          5.1         3.5          1.4         0.2     0.0     0.686275\n",
      "1          4.9         3.0          1.4         0.2     0.0     0.612245\n",
      "2          4.7         3.2          1.3         0.2     0.0     0.680851\n",
      "3          4.6         3.1          1.5         0.2     0.0     0.673913\n",
      "4          5.0         3.6          1.4         0.2     0.0     0.720000\n",
      "   SepalLength  SepalWidth  PetalLength  PetalWidth  target  sepal_ratio\n",
      "0          5.1         3.5          1.4         0.2     0.0     0.686275\n",
      "1          4.9         3.0          1.4         0.2     0.0     0.612245\n",
      "2          4.7         3.2          1.3         0.2     0.0     0.680851\n",
      "3          4.6         3.1          1.5         0.2     0.0     0.673913\n",
      "4          5.0         3.6          1.4         0.2     0.0     0.720000\n",
      "   SepalLength  SepalWidth  PetalLength  PetalWidth  target\n",
      "0          5.1         3.5          1.4         0.2     0.0\n",
      "1          4.9         3.0          1.4         0.2     0.0\n",
      "2          4.7         3.2          1.3         0.2     0.0\n",
      "3          4.6         3.1          1.5         0.2     0.0\n",
      "4          5.0         3.6          1.4         0.2     0.0\n"
     ],
     "output_type": "stream"
    }
   ],
   "source": [
    "from sklearn.datasets import load_iris\n",
    "import pandas as pd\n",
    "import numpy as np\n",
    "\n",
    "iris = load_iris()\n",
    "\n",
    "df = pd.DataFrame(data=np.c_[iris['data'], iris['target']], columns=iris['feature_names']+['target'])\n",
    "\n",
    "df.rename(columns={'sepal length (cm)':'SepalLength', \n",
    "                   'sepal width (cm)':'SepalWidth', \n",
    "                   'petal length (cm)':'PetalLength',\n",
    "                   'petal width (cm)':'PetalWidth'}, \n",
    "          inplace=True)\n",
    "print(df.head())\n",
    "\n",
    "# 方式一\n",
    "print(df.assign(sepal_ratio=df[\"SepalWidth\"] / df[\"SepalLength\"]).head())\n",
    "\n",
    "# 方式二\n",
    "print(df.assign(sepal_ratio=lambda x: (x[\"SepalWidth\"] / x[\"SepalLength\"])).head())"
   ],
   "metadata": {
    "collapsed": false,
    "pycharm": {
     "name": "#%%\n",
     "is_executing": false
    }
   }
  },
  {
   "cell_type": "markdown",
   "source": [
    "注意：**assign 总是返回数据的副本，而原始DataFrame保持不变**"
   ],
   "metadata": {
    "collapsed": false,
    "pycharm": {
     "name": "#%% md\n"
    }
   }
  },
  {
   "cell_type": "code",
   "execution_count": 5,
   "outputs": [
    {
     "name": "stdout",
     "text": [
      "   SepalLength  SepalWidth  PetalLength  PetalWidth  target\n",
      "0          5.1         3.5          1.4         0.2     0.0\n",
      "1          4.9         3.0          1.4         0.2     0.0\n",
      "2          4.7         3.2          1.3         0.2     0.0\n",
      "3          4.6         3.1          1.5         0.2     0.0\n",
      "4          5.0         3.6          1.4         0.2     0.0\n"
     ],
     "output_type": "stream"
    }
   ],
   "source": [
    "print(df.head())\n"
   ],
   "metadata": {
    "collapsed": false,
    "pycharm": {
     "name": "#%%\n",
     "is_executing": false
    }
   }
  },
  {
   "cell_type": "markdown",
   "source": [
    "\n"
   ],
   "metadata": {
    "collapsed": false
   }
  }
 ],
 "metadata": {
  "kernelspec": {
   "display_name": "Python 3",
   "language": "python",
   "name": "python3"
  },
  "language_info": {
   "codemirror_mode": {
    "name": "ipython",
    "version": 2
   },
   "file_extension": ".py",
   "mimetype": "text/x-python",
   "name": "python",
   "nbconvert_exporter": "python",
   "pygments_lexer": "ipython2",
   "version": "2.7.6"
  },
  "pycharm": {
   "stem_cell": {
    "cell_type": "raw",
    "source": [],
    "metadata": {
     "collapsed": false
    }
   }
  }
 },
 "nbformat": 4,
 "nbformat_minor": 0
}