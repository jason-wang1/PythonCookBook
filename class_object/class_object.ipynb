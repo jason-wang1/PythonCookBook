{
 "cells": [
  {
   "cell_type": "markdown",
   "metadata": {
    "collapsed": true,
    "pycharm": {
     "name": "#%% md\n"
    }
   },
   "source": [
    "# 类与对象"
   ]
  },
  {
   "cell_type": "markdown",
   "source": [
    "## 改变对象的字符串显示\n",
    "问题：想改变对象实例的打印内容，增加可读性\n",
    "解决：重新定义 __ str __ () 和 __ repr __ () 方法"
   ],
   "metadata": {
    "collapsed": false
   }
  },
  {
   "cell_type": "markdown",
   "source": [
    "- 使用 repr() 函数返回 __ repr __ () 方法定义的字符串\n",
    "- 使用 str() 或 print() 函数会返回 __ str __ () 方法定义的字符串"
   ],
   "metadata": {
    "collapsed": false,
    "pycharm": {
     "name": "#%% md\n"
    }
   }
  },
  {
   "cell_type": "code",
   "execution_count": 5,
   "outputs": [
    {
     "name": "stdout",
     "text": [
      "MyPair(3, 4)\n",
      "(3, 4)\n"
     ],
     "output_type": "stream"
    }
   ],
   "source": [
    "class Pair:\n",
    "    def __init__(self, x, y):\n",
    "        self.x = x\n",
    "        self.y = y\n",
    "    def __repr__(self):\n",
    "        return 'MyPair({0.x!r}, {0.y!r})'.format(self)\n",
    "    def __str__(self):\n",
    "        return '({0.x!s}, {0.y!s})'.format(self)\n",
    "\n",
    "p = Pair(3, 4)\n",
    "print(repr(p))\n",
    "print(p)"
   ],
   "metadata": {
    "collapsed": false,
    "pycharm": {
     "name": "#%%\n",
     "is_executing": false
    }
   }
  },
  {
   "cell_type": "markdown",
   "source": [
    "## 自定义字符串的格式化\n",
    "问题：想通过 format() 函数和字符串方法使得一个对象能支持自定义的格式化\n",
    "解决：在类上面定义 format () 方法"
   ],
   "metadata": {
    "collapsed": false
   }
  },
  {
   "cell_type": "code",
   "execution_count": 7,
   "outputs": [],
   "source": [
    "_formats = { 'ymd' : '{d.year}-{d.month}-{d.day}', \n",
    "             'mdy' : '{d.month}/{d.day}/{d.year}', \n",
    "             'dmy' : '{d.day}/{d.month}/{d.year}' }\n",
    "\n",
    "class Date:\n",
    "    def __init__(self, year, month, day):\n",
    "        self.year = year\n",
    "        self.month = month\n",
    "        self.day = day\n",
    "        \n",
    "    def __format__(self, code):\n",
    "        if code == '':\n",
    "            code = 'ymd'\n",
    "        fmt = _formats[code]\n",
    "        return fmt.format(d=self)"
   ],
   "metadata": {
    "collapsed": false,
    "pycharm": {
     "name": "#%%\n",
     "is_executing": false
    }
   }
  },
  {
   "cell_type": "code",
   "execution_count": 9,
   "outputs": [
    {
     "name": "stdout",
     "text": [
      "2012-12-21\n",
      "The date is 2012-12-21\n",
      "The date is 12/21/2012\n"
     ],
     "output_type": "stream"
    }
   ],
   "source": [
    "d = Date(2012, 12, 21)\n",
    "print(format(d))\n",
    "print('The date is {:ymd}'.format(d))\n",
    "print('The date is {:mdy}'.format(d))"
   ],
   "metadata": {
    "collapsed": false,
    "pycharm": {
     "name": "#%%\n",
     "is_executing": false
    }
   }
  },
  {
   "cell_type": "code",
   "execution_count": 10,
   "outputs": [
    {
     "name": "stdout",
     "text": [
      "2012-12-21\n",
      "Friday, December 21, 2012\n"
     ],
     "output_type": "stream"
    }
   ],
   "source": [
    "from datetime import date\n",
    "d = date(2012, 12, 21)\n",
    "print(format(d))\n",
    "print(format(d,'%A, %B %d, %Y'))"
   ],
   "metadata": {
    "collapsed": false,
    "pycharm": {
     "name": "#%%\n",
     "is_executing": false
    }
   }
  },
  {
   "cell_type": "markdown",
   "source": [
    "## 创建大量对象时节省内存方法\n",
    "问题：程序要创建大量 (可能上百万) 的对象，导致占用很大的内存，怎样压缩空间？\n",
    "解答：给类添加 __ slots __ 属性来极大的减少实例所占的内存\n",
    "- 优点：这样实例通过一个很小的固定大小的数组来构建，而不是为每个实例定义一个字典\n",
    "- 不能再给实例添加新的属性了，只能使用在 slots 中定义的那些属性名\n",
    "- 应用场景：需要创建某个类的几百万个实例对象"
   ],
   "metadata": {
    "collapsed": false
   }
  },
  {
   "cell_type": "code",
   "execution_count": null,
   "outputs": [],
   "source": [
    "class Date:\n",
    "    __slots__ = ['year', 'month', 'day']\n",
    "    \n",
    "    def __init__(self, year, month, day):\n",
    "        self.year = year\n",
    "        self.month = month\n",
    "        self.day = day\n",
    "        \n"
   ],
   "metadata": {
    "collapsed": false,
    "pycharm": {
     "name": "#%%\n"
    }
   }
  }
 ],
 "metadata": {
  "kernelspec": {
   "display_name": "Python 3",
   "language": "python",
   "name": "python3"
  },
  "language_info": {
   "codemirror_mode": {
    "name": "ipython",
    "version": 2
   },
   "file_extension": ".py",
   "mimetype": "text/x-python",
   "name": "python",
   "nbconvert_exporter": "python",
   "pygments_lexer": "ipython2",
   "version": "2.7.6"
  },
  "pycharm": {
   "stem_cell": {
    "cell_type": "raw",
    "source": [],
    "metadata": {
     "collapsed": false
    }
   }
  }
 },
 "nbformat": 4,
 "nbformat_minor": 0
}