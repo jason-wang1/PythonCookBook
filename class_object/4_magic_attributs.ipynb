{
 "cells": [
  {
   "cell_type": "markdown",
   "source": [
    "# 1. 魔术属性"
   ],
   "metadata": {
    "collapsed": false
   }
  },
  {
   "cell_type": "markdown",
   "metadata": {
    "collapsed": true,
    "pycharm": {
     "name": "#%% md\n"
    }
   },
   "source": [
    "## 1.1 创建大量对象时节省内存方法\n",
    "问题：程序要创建大量 (可能上百万) 的对象，导致占用很大的内存，怎样压缩空间？\n",
    "解答：给类添加 __ slots __ 属性来极大的减少实例所占的内存\n",
    "- 优点：这样实例通过一个很小的固定大小的数组来构建，而不是为每个实例定义一个字典\n",
    "- 不能再给实例添加新的属性了，只能使用在 slots 中定义的那些属性名\n",
    "- 应用场景：需要创建某个类的几百万个实例对象"
   ]
  },
  {
   "cell_type": "code",
   "execution_count": null,
   "outputs": [],
   "source": [
    "class Date:\n",
    "    __slots__ = ['year', 'month', 'day']\n",
    "    \n",
    "    def __init__(self, year, month, day):\n",
    "        self.year = year\n",
    "        self.month = month\n",
    "        self.day = day\n",
    "        \n"
   ],
   "metadata": {
    "collapsed": false,
    "pycharm": {
     "name": "#%%\n"
    }
   }
  }
 ],
 "metadata": {
  "kernelspec": {
   "display_name": "Python 3",
   "language": "python",
   "name": "python3"
  },
  "language_info": {
   "codemirror_mode": {
    "name": "ipython",
    "version": 2
   },
   "file_extension": ".py",
   "mimetype": "text/x-python",
   "name": "python",
   "nbconvert_exporter": "python",
   "pygments_lexer": "ipython2",
   "version": "2.7.6"
  },
  "pycharm": {
   "stem_cell": {
    "cell_type": "raw",
    "source": [],
    "metadata": {
     "collapsed": false
    }
   }
  }
 },
 "nbformat": 4,
 "nbformat_minor": 0
}