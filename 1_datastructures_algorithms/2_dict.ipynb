{
 "cells": [
  {
   "cell_type": "markdown",
   "source": [
    "# 2.字典"
   ],
   "metadata": {
    "collapsed": false
   }
  },
  {
   "cell_type": "markdown",
   "metadata": {
    "collapsed": true,
    "pycharm": {
     "name": "#%% md\n"
    }
   },
   "source": [
    "## 2.1 字典中的键映射多个值\n",
    "问题：怎样实现一个键对应多个值的字典 (也叫 multidict )？"
   ]
  },
  {
   "cell_type": "markdown",
   "source": [
    "解答：将这多个值放到另外的容器中"
   ],
   "metadata": {
    "collapsed": false,
    "pycharm": {
     "name": "#%% md\n"
    }
   }
  },
  {
   "cell_type": "code",
   "execution_count": 4,
   "outputs": [],
   "source": [
    "d = {'a' : [1, 2, 3],\n",
    "     'b' : [4, 5, 2] \n",
    "     } # 使用List保留重复元素\n",
    "\n",
    "e = {'a' : {1, 2, 3, 2},\n",
    "     'b' : {4, 5, 2} \n",
    "     } # 使用Set去重，并自动排序\n"
   ],
   "metadata": {
    "collapsed": false,
    "pycharm": {
     "name": "#%%\n",
     "is_executing": false
    }
   }
  }
 ],
 "metadata": {
  "kernelspec": {
   "display_name": "Python 3",
   "language": "python",
   "name": "python3"
  },
  "language_info": {
   "codemirror_mode": {
    "name": "ipython",
    "version": 2
   },
   "file_extension": ".py",
   "mimetype": "text/x-python",
   "name": "python",
   "nbconvert_exporter": "python",
   "pygments_lexer": "ipython2",
   "version": "2.7.6"
  },
  "pycharm": {
   "stem_cell": {
    "cell_type": "raw",
    "source": [],
    "metadata": {
     "collapsed": false
    }
   }
  }
 },
 "nbformat": 4,
 "nbformat_minor": 0
}